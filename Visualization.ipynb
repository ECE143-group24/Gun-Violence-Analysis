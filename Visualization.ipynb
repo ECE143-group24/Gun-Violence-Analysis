{
 "cells": [
  {
   "cell_type": "code",
   "execution_count": 1,
   "metadata": {},
   "outputs": [
    {
     "data": {
      "text/html": [
       "<script type=\"text/javascript\">window.PlotlyConfig = {MathJaxConfig: 'local'};</script><script type=\"text/javascript\">if (window.MathJax) {MathJax.Hub.Config({SVG: {font: \"STIX-Web\"}});}</script><script>requirejs.config({paths: { 'plotly': ['https://cdn.plot.ly/plotly-latest.min']},});if(!window._Plotly) {require(['plotly'],function(plotly) {window._Plotly=plotly;});}</script>"
      ],
      "text/vnd.plotly.v1+html": [
       "<script type=\"text/javascript\">window.PlotlyConfig = {MathJaxConfig: 'local'};</script><script type=\"text/javascript\">if (window.MathJax) {MathJax.Hub.Config({SVG: {font: \"STIX-Web\"}});}</script><script>requirejs.config({paths: { 'plotly': ['https://cdn.plot.ly/plotly-latest.min']},});if(!window._Plotly) {require(['plotly'],function(plotly) {window._Plotly=plotly;});}</script>"
      ]
     },
     "metadata": {},
     "output_type": "display_data"
    }
   ],
   "source": [
    "import pandas as pd\n",
    "from plotly.offline import init_notebook_mode, iplot\n",
    "import numpy as np\n",
    "\n",
    "import helper\n",
    "\n",
    "init_notebook_mode(connected=True)"
   ]
  },
  {
   "cell_type": "code",
   "execution_count": 2,
   "metadata": {},
   "outputs": [],
   "source": [
    "# Load dataset\n",
    "path = \"gun-violence-data.csv\"\n",
    "df=helper.load_data(path)"
   ]
  },
  {
   "cell_type": "code",
   "execution_count": 3,
   "metadata": {},
   "outputs": [
    {
     "name": "stdout",
     "output_type": "stream",
     "text": [
      "Index(['incident_id', 'date', 'state', 'city_or_county', 'address', 'n_killed',\n",
      "       'n_injured', 'incident_url', 'source_url',\n",
      "       'incident_url_fields_missing', 'congressional_district', 'gun_stolen',\n",
      "       'gun_type', 'incident_characteristics', 'latitude',\n",
      "       'location_description', 'longitude', 'n_guns_involved', 'notes',\n",
      "       'participant_age', 'participant_age_group', 'participant_gender',\n",
      "       'participant_name', 'participant_relationship', 'participant_status',\n",
      "       'participant_type', 'sources', 'state_house_district',\n",
      "       'state_senate_district', 'year', 'month', 'monthday', 'weekday',\n",
      "       'loss'],\n",
      "      dtype='object')\n"
     ]
    }
   ],
   "source": [
    "# Print columns\n",
    "print(df.keys())"
   ]
  },
  {
   "cell_type": "code",
   "execution_count": 4,
   "metadata": {},
   "outputs": [
    {
     "name": "stdout",
     "output_type": "stream",
     "text": [
      "Total number of incidents = 239677\n"
     ]
    },
    {
     "data": {
      "application/vnd.plotly.v1+json": {
       "data": [
        {
         "labels": [
          "0",
          "1",
          "2",
          "3+"
         ],
         "type": "pie",
         "uid": "2ce5e793-9486-4935-9e23-bd127bad2020",
         "values": [
          185835,
          48436,
          4604,
          802
         ]
        }
       ],
       "layout": {
        "height": 600,
        "legend": {
         "orientation": "h"
        },
        "title": "Number of People Killed"
       }
      },
      "text/html": [
       "<div id=\"0f084e90-09e4-45cd-8758-95ff8f07c043\" style=\"height: 600px; width: 100%;\" class=\"plotly-graph-div\"></div><script type=\"text/javascript\">require([\"plotly\"], function(Plotly) { window.PLOTLYENV=window.PLOTLYENV || {};window.PLOTLYENV.BASE_URL=\"https://plot.ly\";Plotly.newPlot(\"0f084e90-09e4-45cd-8758-95ff8f07c043\", [{\"labels\": [\"0\", \"1\", \"2\", \"3+\"], \"values\": [185835, 48436, 4604, 802], \"type\": \"pie\", \"uid\": \"2ce5e793-9486-4935-9e23-bd127bad2020\"}], {\"height\": 600, \"legend\": {\"orientation\": \"h\"}, \"title\": \"Number of People Killed\"}, {\"showLink\": true, \"linkText\": \"Export to plot.ly\"})});</script><script type=\"text/javascript\">window.addEventListener(\"resize\", function(){window._Plotly.Plots.resize(document.getElementById(\"0f084e90-09e4-45cd-8758-95ff8f07c043\"));});</script>"
      ],
      "text/vnd.plotly.v1+html": [
       "<div id=\"0f084e90-09e4-45cd-8758-95ff8f07c043\" style=\"height: 600px; width: 100%;\" class=\"plotly-graph-div\"></div><script type=\"text/javascript\">require([\"plotly\"], function(Plotly) { window.PLOTLYENV=window.PLOTLYENV || {};window.PLOTLYENV.BASE_URL=\"https://plot.ly\";Plotly.newPlot(\"0f084e90-09e4-45cd-8758-95ff8f07c043\", [{\"labels\": [\"0\", \"1\", \"2\", \"3+\"], \"values\": [185835, 48436, 4604, 802], \"type\": \"pie\", \"uid\": \"2ce5e793-9486-4935-9e23-bd127bad2020\"}], {\"height\": 600, \"legend\": {\"orientation\": \"h\"}, \"title\": \"Number of People Killed\"}, {\"showLink\": true, \"linkText\": \"Export to plot.ly\"})});</script><script type=\"text/javascript\">window.addEventListener(\"resize\", function(){window._Plotly.Plots.resize(document.getElementById(\"0f084e90-09e4-45cd-8758-95ff8f07c043\"));});</script>"
      ]
     },
     "metadata": {},
     "output_type": "display_data"
    },
    {
     "data": {
      "application/vnd.plotly.v1+json": {
       "data": [
        {
         "labels": [
          "0",
          "1",
          "2",
          "3+"
         ],
         "type": "pie",
         "uid": "617a1be5-4b1f-4e1f-83a7-6f239fb9c708",
         "values": [
          142487,
          81986,
          11484,
          3720
         ]
        }
       ],
       "layout": {
        "height": 600,
        "legend": {
         "orientation": "h"
        },
        "title": "Number of People Injured"
       }
      },
      "text/html": [
       "<div id=\"61a7ffdf-98d9-45f5-9e06-900d857c6c1e\" style=\"height: 600px; width: 100%;\" class=\"plotly-graph-div\"></div><script type=\"text/javascript\">require([\"plotly\"], function(Plotly) { window.PLOTLYENV=window.PLOTLYENV || {};window.PLOTLYENV.BASE_URL=\"https://plot.ly\";Plotly.newPlot(\"61a7ffdf-98d9-45f5-9e06-900d857c6c1e\", [{\"labels\": [\"0\", \"1\", \"2\", \"3+\"], \"values\": [142487, 81986, 11484, 3720], \"type\": \"pie\", \"uid\": \"617a1be5-4b1f-4e1f-83a7-6f239fb9c708\"}], {\"height\": 600, \"legend\": {\"orientation\": \"h\"}, \"title\": \"Number of People Injured\"}, {\"showLink\": true, \"linkText\": \"Export to plot.ly\"})});</script><script type=\"text/javascript\">window.addEventListener(\"resize\", function(){window._Plotly.Plots.resize(document.getElementById(\"61a7ffdf-98d9-45f5-9e06-900d857c6c1e\"));});</script>"
      ],
      "text/vnd.plotly.v1+html": [
       "<div id=\"61a7ffdf-98d9-45f5-9e06-900d857c6c1e\" style=\"height: 600px; width: 100%;\" class=\"plotly-graph-div\"></div><script type=\"text/javascript\">require([\"plotly\"], function(Plotly) { window.PLOTLYENV=window.PLOTLYENV || {};window.PLOTLYENV.BASE_URL=\"https://plot.ly\";Plotly.newPlot(\"61a7ffdf-98d9-45f5-9e06-900d857c6c1e\", [{\"labels\": [\"0\", \"1\", \"2\", \"3+\"], \"values\": [142487, 81986, 11484, 3720], \"type\": \"pie\", \"uid\": \"617a1be5-4b1f-4e1f-83a7-6f239fb9c708\"}], {\"height\": 600, \"legend\": {\"orientation\": \"h\"}, \"title\": \"Number of People Injured\"}, {\"showLink\": true, \"linkText\": \"Export to plot.ly\"})});</script><script type=\"text/javascript\">window.addEventListener(\"resize\", function(){window._Plotly.Plots.resize(document.getElementById(\"61a7ffdf-98d9-45f5-9e06-900d857c6c1e\"));});</script>"
      ]
     },
     "metadata": {},
     "output_type": "display_data"
    },
    {
     "data": {
      "application/vnd.plotly.v1+json": {
       "data": [
        {
         "labels": [
          "1",
          "0",
          "2",
          "3+"
         ],
         "type": "pie",
         "uid": "59aae86f-f16a-462c-a30c-6632b55db8a7",
         "values": [
          116228,
          97287,
          19794,
          6368
         ]
        }
       ],
       "layout": {
        "height": 600,
        "legend": {
         "orientation": "h"
        },
        "title": "Number of People Killed/Injured"
       }
      },
      "text/html": [
       "<div id=\"1230ce15-4731-494f-bee8-4841b88568a6\" style=\"height: 600px; width: 100%;\" class=\"plotly-graph-div\"></div><script type=\"text/javascript\">require([\"plotly\"], function(Plotly) { window.PLOTLYENV=window.PLOTLYENV || {};window.PLOTLYENV.BASE_URL=\"https://plot.ly\";Plotly.newPlot(\"1230ce15-4731-494f-bee8-4841b88568a6\", [{\"labels\": [\"1\", \"0\", \"2\", \"3+\"], \"values\": [116228, 97287, 19794, 6368], \"type\": \"pie\", \"uid\": \"59aae86f-f16a-462c-a30c-6632b55db8a7\"}], {\"height\": 600, \"legend\": {\"orientation\": \"h\"}, \"title\": \"Number of People Killed/Injured\"}, {\"showLink\": true, \"linkText\": \"Export to plot.ly\"})});</script><script type=\"text/javascript\">window.addEventListener(\"resize\", function(){window._Plotly.Plots.resize(document.getElementById(\"1230ce15-4731-494f-bee8-4841b88568a6\"));});</script>"
      ],
      "text/vnd.plotly.v1+html": [
       "<div id=\"1230ce15-4731-494f-bee8-4841b88568a6\" style=\"height: 600px; width: 100%;\" class=\"plotly-graph-div\"></div><script type=\"text/javascript\">require([\"plotly\"], function(Plotly) { window.PLOTLYENV=window.PLOTLYENV || {};window.PLOTLYENV.BASE_URL=\"https://plot.ly\";Plotly.newPlot(\"1230ce15-4731-494f-bee8-4841b88568a6\", [{\"labels\": [\"1\", \"0\", \"2\", \"3+\"], \"values\": [116228, 97287, 19794, 6368], \"type\": \"pie\", \"uid\": \"59aae86f-f16a-462c-a30c-6632b55db8a7\"}], {\"height\": 600, \"legend\": {\"orientation\": \"h\"}, \"title\": \"Number of People Killed/Injured\"}, {\"showLink\": true, \"linkText\": \"Export to plot.ly\"})});</script><script type=\"text/javascript\">window.addEventListener(\"resize\", function(){window._Plotly.Plots.resize(document.getElementById(\"1230ce15-4731-494f-bee8-4841b88568a6\"));});</script>"
      ]
     },
     "metadata": {},
     "output_type": "display_data"
    }
   ],
   "source": [
    "# Visualize num of people killed, injured, both\n",
    "\n",
    "print(\"Total number of incidents = {}\".format(len(df['n_killed'])))\n",
    "\n",
    "temp=[('n_killed','Number of People Killed'),('n_injured','Number of People Injured'),\n",
    "     ('loss','Number of People Killed/Injured')]\n",
    "\n",
    "for column,title in temp:\n",
    "    labels,values=helper.get_bucketed_data(df,column,3)\n",
    "    helper.plot_pie(labels,values,title)"
   ]
  },
  {
   "cell_type": "code",
   "execution_count": 5,
   "metadata": {},
   "outputs": [
    {
     "name": "stdout",
     "output_type": "stream",
     "text": [
      "\n",
      "\n",
      "THE FIVE MOST SERIOUS INCIDENTS (IN TERMS OF KILLED+INJURED)\n"
     ]
    },
    {
     "data": {
      "text/html": [
       "<div>\n",
       "<style scoped>\n",
       "    .dataframe tbody tr th:only-of-type {\n",
       "        vertical-align: middle;\n",
       "    }\n",
       "\n",
       "    .dataframe tbody tr th {\n",
       "        vertical-align: top;\n",
       "    }\n",
       "\n",
       "    .dataframe thead th {\n",
       "        text-align: right;\n",
       "    }\n",
       "</style>\n",
       "<table border=\"1\" class=\"dataframe\">\n",
       "  <thead>\n",
       "    <tr style=\"text-align: right;\">\n",
       "      <th></th>\n",
       "      <th>year</th>\n",
       "      <th>state</th>\n",
       "      <th>city_or_county</th>\n",
       "      <th>n_killed</th>\n",
       "      <th>n_injured</th>\n",
       "    </tr>\n",
       "  </thead>\n",
       "  <tbody>\n",
       "    <tr>\n",
       "      <th>130448</th>\n",
       "      <td>2016</td>\n",
       "      <td>Florida</td>\n",
       "      <td>Orlando</td>\n",
       "      <td>50</td>\n",
       "      <td>53</td>\n",
       "    </tr>\n",
       "    <tr>\n",
       "      <th>217151</th>\n",
       "      <td>2017</td>\n",
       "      <td>Texas</td>\n",
       "      <td>Sutherland Springs</td>\n",
       "      <td>27</td>\n",
       "      <td>20</td>\n",
       "    </tr>\n",
       "    <tr>\n",
       "      <th>101531</th>\n",
       "      <td>2015</td>\n",
       "      <td>California</td>\n",
       "      <td>San Bernardino</td>\n",
       "      <td>16</td>\n",
       "      <td>19</td>\n",
       "    </tr>\n",
       "    <tr>\n",
       "      <th>232745</th>\n",
       "      <td>2018</td>\n",
       "      <td>Florida</td>\n",
       "      <td>Pompano Beach (Parkland)</td>\n",
       "      <td>17</td>\n",
       "      <td>17</td>\n",
       "    </tr>\n",
       "    <tr>\n",
       "      <th>70511</th>\n",
       "      <td>2015</td>\n",
       "      <td>Texas</td>\n",
       "      <td>Waco</td>\n",
       "      <td>9</td>\n",
       "      <td>18</td>\n",
       "    </tr>\n",
       "  </tbody>\n",
       "</table>\n",
       "</div>"
      ],
      "text/plain": [
       "        year       state            city_or_county  n_killed  n_injured\n",
       "130448  2016     Florida                   Orlando        50         53\n",
       "217151  2017       Texas        Sutherland Springs        27         20\n",
       "101531  2015  California            San Bernardino        16         19\n",
       "232745  2018     Florida  Pompano Beach (Parkland)        17         17\n",
       "70511   2015       Texas                      Waco         9         18"
      ]
     },
     "execution_count": 5,
     "metadata": {},
     "output_type": "execute_result"
    }
   ],
   "source": [
    "# Print top 5 serious incidents\n",
    "\n",
    "print(\"\\n\\nThe five most serious incidents (in terms of killed+injured)\".upper())\n",
    "\n",
    "df1 = df.sort_values(['loss'], ascending=[False])\n",
    "df1[['year', 'state', 'city_or_county', 'n_killed', 'n_injured']].head(5)"
   ]
  },
  {
   "cell_type": "code",
   "execution_count": 6,
   "metadata": {},
   "outputs": [
    {
     "data": {
      "application/vnd.plotly.v1+json": {
       "data": [
        {
         "type": "bar",
         "uid": "e70b81f8-c0d6-4436-b5d5-eb01d65770eb",
         "x": [
          "25",
          "31",
          "33",
          "47",
          "15",
          "48",
          "29",
          "24",
          "18",
          "19",
          "22",
          "23",
          "68",
          "20",
          "41",
          "17",
          "64",
          "21",
          "43",
          "28",
          "27",
          "55",
          "37",
          "39",
          "32",
          "35",
          "42",
          "30",
          "59",
          "44",
          "40",
          "72",
          "26",
          "34",
          "16",
          "56",
          "51",
          "45",
          "38",
          "36",
          "12",
          "13",
          "63",
          "58",
          "52",
          "49",
          "70",
          "46",
          "88",
          "54",
          "61",
          "66",
          "71",
          "14",
          "69",
          "53",
          "50",
          "60",
          "80",
          "4",
          "75",
          "67",
          "10",
          "62",
          "57",
          "76",
          "74",
          "73",
          "81",
          "83",
          "11",
          "9",
          "3",
          "65",
          "86",
          "6",
          "7",
          "84",
          "91",
          "8",
          "90",
          "79",
          "2",
          "5",
          "82",
          "87",
          "93",
          "89",
          "85",
          "77",
          "78",
          "94",
          "96",
          "98",
          "1",
          "0",
          "92",
          "311"
         ],
         "y": [
          4620,
          2786,
          2433,
          847,
          1528,
          843,
          3314,
          5107,
          6618,
          6657,
          5624,
          5269,
          160,
          5938,
          1196,
          4375,
          235,
          5746,
          1057,
          3494,
          3944,
          576,
          1873,
          1419,
          2715,
          2316,
          1122,
          3048,
          435,
          995,
          1393,
          108,
          4255,
          2391,
          2692,
          484,
          673,
          989,
          1702,
          1944,
          140,
          340,
          257,
          429,
          657,
          745,
          135,
          893,
          13,
          610,
          322,
          166,
          125,
          779,
          131,
          682,
          724,
          342,
          36,
          26,
          75,
          167,
          48,
          271,
          444,
          79,
          85,
          84,
          39,
          30,
          89,
          38,
          46,
          205,
          28,
          42,
          31,
          24,
          6,
          39,
          14,
          30,
          26,
          36,
          29,
          15,
          3,
          7,
          22,
          45,
          39,
          4,
          2,
          1,
          3,
          1,
          2,
          1
         ]
        }
       ],
       "layout": {
        "height": 400,
        "legend": {
         "orientation": "h"
        },
        "title": "SUSPECT AGE HISTOGRAM",
        "xaxis": {
         "range": [
          0,
          100
         ]
        }
       }
      },
      "text/html": [
       "<div id=\"521895e9-68ce-4a46-94e3-895fd21a343a\" style=\"height: 400px; width: 100%;\" class=\"plotly-graph-div\"></div><script type=\"text/javascript\">require([\"plotly\"], function(Plotly) { window.PLOTLYENV=window.PLOTLYENV || {};window.PLOTLYENV.BASE_URL=\"https://plot.ly\";Plotly.newPlot(\"521895e9-68ce-4a46-94e3-895fd21a343a\", [{\"x\": [\"25\", \"31\", \"33\", \"47\", \"15\", \"48\", \"29\", \"24\", \"18\", \"19\", \"22\", \"23\", \"68\", \"20\", \"41\", \"17\", \"64\", \"21\", \"43\", \"28\", \"27\", \"55\", \"37\", \"39\", \"32\", \"35\", \"42\", \"30\", \"59\", \"44\", \"40\", \"72\", \"26\", \"34\", \"16\", \"56\", \"51\", \"45\", \"38\", \"36\", \"12\", \"13\", \"63\", \"58\", \"52\", \"49\", \"70\", \"46\", \"88\", \"54\", \"61\", \"66\", \"71\", \"14\", \"69\", \"53\", \"50\", \"60\", \"80\", \"4\", \"75\", \"67\", \"10\", \"62\", \"57\", \"76\", \"74\", \"73\", \"81\", \"83\", \"11\", \"9\", \"3\", \"65\", \"86\", \"6\", \"7\", \"84\", \"91\", \"8\", \"90\", \"79\", \"2\", \"5\", \"82\", \"87\", \"93\", \"89\", \"85\", \"77\", \"78\", \"94\", \"96\", \"98\", \"1\", \"0\", \"92\", \"311\"], \"y\": [4620, 2786, 2433, 847, 1528, 843, 3314, 5107, 6618, 6657, 5624, 5269, 160, 5938, 1196, 4375, 235, 5746, 1057, 3494, 3944, 576, 1873, 1419, 2715, 2316, 1122, 3048, 435, 995, 1393, 108, 4255, 2391, 2692, 484, 673, 989, 1702, 1944, 140, 340, 257, 429, 657, 745, 135, 893, 13, 610, 322, 166, 125, 779, 131, 682, 724, 342, 36, 26, 75, 167, 48, 271, 444, 79, 85, 84, 39, 30, 89, 38, 46, 205, 28, 42, 31, 24, 6, 39, 14, 30, 26, 36, 29, 15, 3, 7, 22, 45, 39, 4, 2, 1, 3, 1, 2, 1], \"type\": \"bar\", \"uid\": \"e70b81f8-c0d6-4436-b5d5-eb01d65770eb\"}], {\"height\": 400, \"legend\": {\"orientation\": \"h\"}, \"title\": \"SUSPECT AGE HISTOGRAM\", \"xaxis\": {\"range\": [0, 100]}}, {\"showLink\": true, \"linkText\": \"Export to plot.ly\"})});</script><script type=\"text/javascript\">window.addEventListener(\"resize\", function(){window._Plotly.Plots.resize(document.getElementById(\"521895e9-68ce-4a46-94e3-895fd21a343a\"));});</script>"
      ],
      "text/vnd.plotly.v1+html": [
       "<div id=\"521895e9-68ce-4a46-94e3-895fd21a343a\" style=\"height: 400px; width: 100%;\" class=\"plotly-graph-div\"></div><script type=\"text/javascript\">require([\"plotly\"], function(Plotly) { window.PLOTLYENV=window.PLOTLYENV || {};window.PLOTLYENV.BASE_URL=\"https://plot.ly\";Plotly.newPlot(\"521895e9-68ce-4a46-94e3-895fd21a343a\", [{\"x\": [\"25\", \"31\", \"33\", \"47\", \"15\", \"48\", \"29\", \"24\", \"18\", \"19\", \"22\", \"23\", \"68\", \"20\", \"41\", \"17\", \"64\", \"21\", \"43\", \"28\", \"27\", \"55\", \"37\", \"39\", \"32\", \"35\", \"42\", \"30\", \"59\", \"44\", \"40\", \"72\", \"26\", \"34\", \"16\", \"56\", \"51\", \"45\", \"38\", \"36\", \"12\", \"13\", \"63\", \"58\", \"52\", \"49\", \"70\", \"46\", \"88\", \"54\", \"61\", \"66\", \"71\", \"14\", \"69\", \"53\", \"50\", \"60\", \"80\", \"4\", \"75\", \"67\", \"10\", \"62\", \"57\", \"76\", \"74\", \"73\", \"81\", \"83\", \"11\", \"9\", \"3\", \"65\", \"86\", \"6\", \"7\", \"84\", \"91\", \"8\", \"90\", \"79\", \"2\", \"5\", \"82\", \"87\", \"93\", \"89\", \"85\", \"77\", \"78\", \"94\", \"96\", \"98\", \"1\", \"0\", \"92\", \"311\"], \"y\": [4620, 2786, 2433, 847, 1528, 843, 3314, 5107, 6618, 6657, 5624, 5269, 160, 5938, 1196, 4375, 235, 5746, 1057, 3494, 3944, 576, 1873, 1419, 2715, 2316, 1122, 3048, 435, 995, 1393, 108, 4255, 2391, 2692, 484, 673, 989, 1702, 1944, 140, 340, 257, 429, 657, 745, 135, 893, 13, 610, 322, 166, 125, 779, 131, 682, 724, 342, 36, 26, 75, 167, 48, 271, 444, 79, 85, 84, 39, 30, 89, 38, 46, 205, 28, 42, 31, 24, 6, 39, 14, 30, 26, 36, 29, 15, 3, 7, 22, 45, 39, 4, 2, 1, 3, 1, 2, 1], \"type\": \"bar\", \"uid\": \"e70b81f8-c0d6-4436-b5d5-eb01d65770eb\"}], {\"height\": 400, \"legend\": {\"orientation\": \"h\"}, \"title\": \"SUSPECT AGE HISTOGRAM\", \"xaxis\": {\"range\": [0, 100]}}, {\"showLink\": true, \"linkText\": \"Export to plot.ly\"})});</script><script type=\"text/javascript\">window.addEventListener(\"resize\", function(){window._Plotly.Plots.resize(document.getElementById(\"521895e9-68ce-4a46-94e3-895fd21a343a\"));});</script>"
      ]
     },
     "metadata": {},
     "output_type": "display_data"
    },
    {
     "data": {
      "application/vnd.plotly.v1+json": {
       "data": [
        {
         "type": "bar",
         "uid": "719c643c-c5d0-49b6-b776-10ffc9997367",
         "x": [
          "20",
          "33",
          "34",
          "29",
          "56",
          "18",
          "46",
          "14",
          "23",
          "55",
          "51",
          "40",
          "9",
          "5",
          "2",
          "15",
          "19",
          "28",
          "78",
          "41",
          "22",
          "21",
          "39",
          "35",
          "26",
          "69",
          "27",
          "37",
          "50",
          "42",
          "17",
          "25",
          "16",
          "13",
          "68",
          "57",
          "66",
          "67",
          "62",
          "36",
          "24",
          "30",
          "32",
          "1",
          "3",
          "63",
          "64",
          "31",
          "10",
          "48",
          "53",
          "60",
          "58",
          "72",
          "45",
          "43",
          "49",
          "12",
          "44",
          "70",
          "0",
          "54",
          "6",
          "38",
          "8",
          "4",
          "7",
          "52",
          "47",
          "79",
          "11",
          "80",
          "59",
          "73",
          "61",
          "85",
          "88",
          "71",
          "89",
          "90",
          "65",
          "74",
          "77",
          "86",
          "84",
          "96",
          "81",
          "83",
          "82",
          "87",
          "75",
          "76",
          "92",
          "91",
          "94",
          "101",
          "97",
          "95",
          "93",
          "99",
          "100",
          "209"
         ],
         "y": [
          5003,
          2364,
          2247,
          3017,
          566,
          4580,
          890,
          1128,
          4756,
          656,
          746,
          1431,
          266,
          276,
          307,
          1837,
          5073,
          3306,
          76,
          1214,
          4745,
          4889,
          1424,
          2123,
          3980,
          186,
          3612,
          1821,
          843,
          1095,
          3951,
          4435,
          2834,
          655,
          229,
          526,
          235,
          244,
          368,
          1884,
          4665,
          2834,
          2516,
          216,
          365,
          324,
          260,
          2584,
          280,
          889,
          682,
          487,
          477,
          133,
          1006,
          1139,
          804,
          390,
          1071,
          189,
          89,
          632,
          248,
          1593,
          249,
          338,
          279,
          730,
          867,
          86,
          307,
          91,
          426,
          142,
          393,
          47,
          28,
          197,
          32,
          20,
          281,
          122,
          106,
          30,
          53,
          4,
          77,
          62,
          57,
          31,
          131,
          117,
          14,
          14,
          8,
          2,
          2,
          5,
          4,
          3,
          1,
          1
         ]
        }
       ],
       "layout": {
        "height": 400,
        "legend": {
         "orientation": "h"
        },
        "title": "VICTIM AGE HISTOGRAM",
        "xaxis": {
         "range": [
          0,
          100
         ]
        }
       }
      },
      "text/html": [
       "<div id=\"f55a6309-121f-43cb-b9c3-e8d0480831c3\" style=\"height: 400px; width: 100%;\" class=\"plotly-graph-div\"></div><script type=\"text/javascript\">require([\"plotly\"], function(Plotly) { window.PLOTLYENV=window.PLOTLYENV || {};window.PLOTLYENV.BASE_URL=\"https://plot.ly\";Plotly.newPlot(\"f55a6309-121f-43cb-b9c3-e8d0480831c3\", [{\"x\": [\"20\", \"33\", \"34\", \"29\", \"56\", \"18\", \"46\", \"14\", \"23\", \"55\", \"51\", \"40\", \"9\", \"5\", \"2\", \"15\", \"19\", \"28\", \"78\", \"41\", \"22\", \"21\", \"39\", \"35\", \"26\", \"69\", \"27\", \"37\", \"50\", \"42\", \"17\", \"25\", \"16\", \"13\", \"68\", \"57\", \"66\", \"67\", \"62\", \"36\", \"24\", \"30\", \"32\", \"1\", \"3\", \"63\", \"64\", \"31\", \"10\", \"48\", \"53\", \"60\", \"58\", \"72\", \"45\", \"43\", \"49\", \"12\", \"44\", \"70\", \"0\", \"54\", \"6\", \"38\", \"8\", \"4\", \"7\", \"52\", \"47\", \"79\", \"11\", \"80\", \"59\", \"73\", \"61\", \"85\", \"88\", \"71\", \"89\", \"90\", \"65\", \"74\", \"77\", \"86\", \"84\", \"96\", \"81\", \"83\", \"82\", \"87\", \"75\", \"76\", \"92\", \"91\", \"94\", \"101\", \"97\", \"95\", \"93\", \"99\", \"100\", \"209\"], \"y\": [5003, 2364, 2247, 3017, 566, 4580, 890, 1128, 4756, 656, 746, 1431, 266, 276, 307, 1837, 5073, 3306, 76, 1214, 4745, 4889, 1424, 2123, 3980, 186, 3612, 1821, 843, 1095, 3951, 4435, 2834, 655, 229, 526, 235, 244, 368, 1884, 4665, 2834, 2516, 216, 365, 324, 260, 2584, 280, 889, 682, 487, 477, 133, 1006, 1139, 804, 390, 1071, 189, 89, 632, 248, 1593, 249, 338, 279, 730, 867, 86, 307, 91, 426, 142, 393, 47, 28, 197, 32, 20, 281, 122, 106, 30, 53, 4, 77, 62, 57, 31, 131, 117, 14, 14, 8, 2, 2, 5, 4, 3, 1, 1], \"type\": \"bar\", \"uid\": \"719c643c-c5d0-49b6-b776-10ffc9997367\"}], {\"height\": 400, \"legend\": {\"orientation\": \"h\"}, \"title\": \"VICTIM AGE HISTOGRAM\", \"xaxis\": {\"range\": [0, 100]}}, {\"showLink\": true, \"linkText\": \"Export to plot.ly\"})});</script><script type=\"text/javascript\">window.addEventListener(\"resize\", function(){window._Plotly.Plots.resize(document.getElementById(\"f55a6309-121f-43cb-b9c3-e8d0480831c3\"));});</script>"
      ],
      "text/vnd.plotly.v1+html": [
       "<div id=\"f55a6309-121f-43cb-b9c3-e8d0480831c3\" style=\"height: 400px; width: 100%;\" class=\"plotly-graph-div\"></div><script type=\"text/javascript\">require([\"plotly\"], function(Plotly) { window.PLOTLYENV=window.PLOTLYENV || {};window.PLOTLYENV.BASE_URL=\"https://plot.ly\";Plotly.newPlot(\"f55a6309-121f-43cb-b9c3-e8d0480831c3\", [{\"x\": [\"20\", \"33\", \"34\", \"29\", \"56\", \"18\", \"46\", \"14\", \"23\", \"55\", \"51\", \"40\", \"9\", \"5\", \"2\", \"15\", \"19\", \"28\", \"78\", \"41\", \"22\", \"21\", \"39\", \"35\", \"26\", \"69\", \"27\", \"37\", \"50\", \"42\", \"17\", \"25\", \"16\", \"13\", \"68\", \"57\", \"66\", \"67\", \"62\", \"36\", \"24\", \"30\", \"32\", \"1\", \"3\", \"63\", \"64\", \"31\", \"10\", \"48\", \"53\", \"60\", \"58\", \"72\", \"45\", \"43\", \"49\", \"12\", \"44\", \"70\", \"0\", \"54\", \"6\", \"38\", \"8\", \"4\", \"7\", \"52\", \"47\", \"79\", \"11\", \"80\", \"59\", \"73\", \"61\", \"85\", \"88\", \"71\", \"89\", \"90\", \"65\", \"74\", \"77\", \"86\", \"84\", \"96\", \"81\", \"83\", \"82\", \"87\", \"75\", \"76\", \"92\", \"91\", \"94\", \"101\", \"97\", \"95\", \"93\", \"99\", \"100\", \"209\"], \"y\": [5003, 2364, 2247, 3017, 566, 4580, 890, 1128, 4756, 656, 746, 1431, 266, 276, 307, 1837, 5073, 3306, 76, 1214, 4745, 4889, 1424, 2123, 3980, 186, 3612, 1821, 843, 1095, 3951, 4435, 2834, 655, 229, 526, 235, 244, 368, 1884, 4665, 2834, 2516, 216, 365, 324, 260, 2584, 280, 889, 682, 487, 477, 133, 1006, 1139, 804, 390, 1071, 189, 89, 632, 248, 1593, 249, 338, 279, 730, 867, 86, 307, 91, 426, 142, 393, 47, 28, 197, 32, 20, 281, 122, 106, 30, 53, 4, 77, 62, 57, 31, 131, 117, 14, 14, 8, 2, 2, 5, 4, 3, 1, 1], \"type\": \"bar\", \"uid\": \"719c643c-c5d0-49b6-b776-10ffc9997367\"}], {\"height\": 400, \"legend\": {\"orientation\": \"h\"}, \"title\": \"VICTIM AGE HISTOGRAM\", \"xaxis\": {\"range\": [0, 100]}}, {\"showLink\": true, \"linkText\": \"Export to plot.ly\"})});</script><script type=\"text/javascript\">window.addEventListener(\"resize\", function(){window._Plotly.Plots.resize(document.getElementById(\"f55a6309-121f-43cb-b9c3-e8d0480831c3\"));});</script>"
      ]
     },
     "metadata": {},
     "output_type": "display_data"
    }
   ],
   "source": [
    "# Visualize age distribution of suspects and victims\n",
    "\n",
    "for target_type in ['suspect','victim']:      \n",
    "    age_groups=helper.get_age_distribution(df['participant_type'],df['participant_age'],target_type)\n",
    "    helper.plot_histogram(age_groups,dict(range=[0, 100]),target_type+' age histogram')"
   ]
  },
  {
   "cell_type": "code",
   "execution_count": 7,
   "metadata": {},
   "outputs": [
    {
     "data": {
      "application/vnd.plotly.v1+json": {
       "data": [
        {
         "labels": [
          "ARRESTED",
          "INJURED",
          "KILLED",
          "UNHARMED"
         ],
         "type": "pie",
         "uid": "493f58ea-b796-49ab-969a-43c894e8550f",
         "values": [
          99333,
          118395,
          60478,
          190383
         ]
        }
       ],
       "layout": {
        "height": 600,
        "legend": {
         "orientation": "h"
        },
        "title": "Participant Type"
       }
      },
      "text/html": [
       "<div id=\"4dfaf3e8-bff2-4bd0-9dda-be3095f81a92\" style=\"height: 600px; width: 100%;\" class=\"plotly-graph-div\"></div><script type=\"text/javascript\">require([\"plotly\"], function(Plotly) { window.PLOTLYENV=window.PLOTLYENV || {};window.PLOTLYENV.BASE_URL=\"https://plot.ly\";Plotly.newPlot(\"4dfaf3e8-bff2-4bd0-9dda-be3095f81a92\", [{\"labels\": [\"ARRESTED\", \"INJURED\", \"KILLED\", \"UNHARMED\"], \"values\": [99333, 118395, 60478, 190383], \"type\": \"pie\", \"uid\": \"493f58ea-b796-49ab-969a-43c894e8550f\"}], {\"height\": 600, \"legend\": {\"orientation\": \"h\"}, \"title\": \"Participant Type\"}, {\"showLink\": true, \"linkText\": \"Export to plot.ly\"})});</script><script type=\"text/javascript\">window.addEventListener(\"resize\", function(){window._Plotly.Plots.resize(document.getElementById(\"4dfaf3e8-bff2-4bd0-9dda-be3095f81a92\"));});</script>"
      ],
      "text/vnd.plotly.v1+html": [
       "<div id=\"4dfaf3e8-bff2-4bd0-9dda-be3095f81a92\" style=\"height: 600px; width: 100%;\" class=\"plotly-graph-div\"></div><script type=\"text/javascript\">require([\"plotly\"], function(Plotly) { window.PLOTLYENV=window.PLOTLYENV || {};window.PLOTLYENV.BASE_URL=\"https://plot.ly\";Plotly.newPlot(\"4dfaf3e8-bff2-4bd0-9dda-be3095f81a92\", [{\"labels\": [\"ARRESTED\", \"INJURED\", \"KILLED\", \"UNHARMED\"], \"values\": [99333, 118395, 60478, 190383], \"type\": \"pie\", \"uid\": \"493f58ea-b796-49ab-969a-43c894e8550f\"}], {\"height\": 600, \"legend\": {\"orientation\": \"h\"}, \"title\": \"Participant Type\"}, {\"showLink\": true, \"linkText\": \"Export to plot.ly\"})});</script><script type=\"text/javascript\">window.addEventListener(\"resize\", function(){window._Plotly.Plots.resize(document.getElementById(\"4dfaf3e8-bff2-4bd0-9dda-be3095f81a92\"));});</script>"
      ]
     },
     "metadata": {},
     "output_type": "display_data"
    }
   ],
   "source": [
    "# Visualize distribution of participant types\n",
    "\n",
    "types=['ARRESTED','INJURED','KILLED','UNHARMED']\n",
    "values=helper.get_person_type_counts(df,\"participant_status\",types)\n",
    "helper.plot_pie(types,values,'Participant Type')"
   ]
  },
  {
   "cell_type": "code",
   "execution_count": 8,
   "metadata": {},
   "outputs": [
    {
     "data": {
      "application/vnd.plotly.v1+json": {
       "data": [
        {
         "type": "bar",
         "uid": "74d03a7d-82ec-41a1-a846-221b75db44df",
         "x": [
          "1",
          "2",
          "3",
          "4",
          "5",
          "6",
          "7",
          "8"
         ],
         "y": [
          0.9143215281946259,
          1.64169428036306,
          1.919736118746564,
          1.9776021080368906,
          2.0976253298153034,
          1.9,
          1.8571428571428572,
          2.1636363636363636
         ]
        }
       ],
       "layout": {
        "height": 400,
        "legend": {
         "orientation": "h"
        },
        "title": "MEAN NUM OF VICTIMS VS NUM OF SUSPECTS",
        "xaxis": {
         "range": [
          1,
          10
         ]
        }
       }
      },
      "text/html": [
       "<div id=\"b5d66fef-e6c6-4b8e-bf04-8c9f04d888cc\" style=\"height: 400px; width: 100%;\" class=\"plotly-graph-div\"></div><script type=\"text/javascript\">require([\"plotly\"], function(Plotly) { window.PLOTLYENV=window.PLOTLYENV || {};window.PLOTLYENV.BASE_URL=\"https://plot.ly\";Plotly.newPlot(\"b5d66fef-e6c6-4b8e-bf04-8c9f04d888cc\", [{\"x\": [\"1\", \"2\", \"3\", \"4\", \"5\", \"6\", \"7\", \"8\"], \"y\": [0.9143215281946259, 1.64169428036306, 1.919736118746564, 1.9776021080368906, 2.0976253298153034, 1.9, 1.8571428571428572, 2.1636363636363636], \"type\": \"bar\", \"uid\": \"74d03a7d-82ec-41a1-a846-221b75db44df\"}], {\"height\": 400, \"legend\": {\"orientation\": \"h\"}, \"title\": \"MEAN NUM OF VICTIMS VS NUM OF SUSPECTS\", \"xaxis\": {\"range\": [1, 10]}}, {\"showLink\": true, \"linkText\": \"Export to plot.ly\"})});</script><script type=\"text/javascript\">window.addEventListener(\"resize\", function(){window._Plotly.Plots.resize(document.getElementById(\"b5d66fef-e6c6-4b8e-bf04-8c9f04d888cc\"));});</script>"
      ],
      "text/vnd.plotly.v1+html": [
       "<div id=\"b5d66fef-e6c6-4b8e-bf04-8c9f04d888cc\" style=\"height: 400px; width: 100%;\" class=\"plotly-graph-div\"></div><script type=\"text/javascript\">require([\"plotly\"], function(Plotly) { window.PLOTLYENV=window.PLOTLYENV || {};window.PLOTLYENV.BASE_URL=\"https://plot.ly\";Plotly.newPlot(\"b5d66fef-e6c6-4b8e-bf04-8c9f04d888cc\", [{\"x\": [\"1\", \"2\", \"3\", \"4\", \"5\", \"6\", \"7\", \"8\"], \"y\": [0.9143215281946259, 1.64169428036306, 1.919736118746564, 1.9776021080368906, 2.0976253298153034, 1.9, 1.8571428571428572, 2.1636363636363636], \"type\": \"bar\", \"uid\": \"74d03a7d-82ec-41a1-a846-221b75db44df\"}], {\"height\": 400, \"legend\": {\"orientation\": \"h\"}, \"title\": \"MEAN NUM OF VICTIMS VS NUM OF SUSPECTS\", \"xaxis\": {\"range\": [1, 10]}}, {\"showLink\": true, \"linkText\": \"Export to plot.ly\"})});</script><script type=\"text/javascript\">window.addEventListener(\"resize\", function(){window._Plotly.Plots.resize(document.getElementById(\"b5d66fef-e6c6-4b8e-bf04-8c9f04d888cc\"));});</script>"
      ]
     },
     "metadata": {},
     "output_type": "display_data"
    },
    {
     "data": {
      "application/vnd.plotly.v1+json": {
       "data": [
        {
         "type": "bar",
         "uid": "1a8c62f1-1cb4-4cbb-aa5b-c96df0500c4c",
         "x": [
          "1",
          "2",
          "3",
          "4",
          "5",
          "6",
          "7",
          "8"
         ],
         "y": [
          0.7295847468811377,
          0.8133666394779772,
          0.8633818589025756,
          1,
          1.0421686746987953,
          1.297752808988764,
          1.1442307692307692,
          1.3653846153846154
         ]
        }
       ],
       "layout": {
        "height": 400,
        "legend": {
         "orientation": "h"
        },
        "title": "MEAN NUM OF GUNS VS NUM OF SUSPECTS",
        "xaxis": {
         "range": [
          1,
          10
         ]
        }
       }
      },
      "text/html": [
       "<div id=\"360d17b4-77de-458f-a9a9-f9c8afc46726\" style=\"height: 400px; width: 100%;\" class=\"plotly-graph-div\"></div><script type=\"text/javascript\">require([\"plotly\"], function(Plotly) { window.PLOTLYENV=window.PLOTLYENV || {};window.PLOTLYENV.BASE_URL=\"https://plot.ly\";Plotly.newPlot(\"360d17b4-77de-458f-a9a9-f9c8afc46726\", [{\"x\": [\"1\", \"2\", \"3\", \"4\", \"5\", \"6\", \"7\", \"8\"], \"y\": [0.7295847468811377, 0.8133666394779772, 0.8633818589025756, 1.0, 1.0421686746987953, 1.297752808988764, 1.1442307692307692, 1.3653846153846154], \"type\": \"bar\", \"uid\": \"1a8c62f1-1cb4-4cbb-aa5b-c96df0500c4c\"}], {\"height\": 400, \"legend\": {\"orientation\": \"h\"}, \"title\": \"MEAN NUM OF GUNS VS NUM OF SUSPECTS\", \"xaxis\": {\"range\": [1, 10]}}, {\"showLink\": true, \"linkText\": \"Export to plot.ly\"})});</script><script type=\"text/javascript\">window.addEventListener(\"resize\", function(){window._Plotly.Plots.resize(document.getElementById(\"360d17b4-77de-458f-a9a9-f9c8afc46726\"));});</script>"
      ],
      "text/vnd.plotly.v1+html": [
       "<div id=\"360d17b4-77de-458f-a9a9-f9c8afc46726\" style=\"height: 400px; width: 100%;\" class=\"plotly-graph-div\"></div><script type=\"text/javascript\">require([\"plotly\"], function(Plotly) { window.PLOTLYENV=window.PLOTLYENV || {};window.PLOTLYENV.BASE_URL=\"https://plot.ly\";Plotly.newPlot(\"360d17b4-77de-458f-a9a9-f9c8afc46726\", [{\"x\": [\"1\", \"2\", \"3\", \"4\", \"5\", \"6\", \"7\", \"8\"], \"y\": [0.7295847468811377, 0.8133666394779772, 0.8633818589025756, 1.0, 1.0421686746987953, 1.297752808988764, 1.1442307692307692, 1.3653846153846154], \"type\": \"bar\", \"uid\": \"1a8c62f1-1cb4-4cbb-aa5b-c96df0500c4c\"}], {\"height\": 400, \"legend\": {\"orientation\": \"h\"}, \"title\": \"MEAN NUM OF GUNS VS NUM OF SUSPECTS\", \"xaxis\": {\"range\": [1, 10]}}, {\"showLink\": true, \"linkText\": \"Export to plot.ly\"})});</script><script type=\"text/javascript\">window.addEventListener(\"resize\", function(){window._Plotly.Plots.resize(document.getElementById(\"360d17b4-77de-458f-a9a9-f9c8afc46726\"));});</script>"
      ]
     },
     "metadata": {},
     "output_type": "display_data"
    }
   ],
   "source": [
    "# Visualize how num of victims and num of guns varies with num of suspects\n",
    "\n",
    "p_type = df[\"participant_type\"].str.replace(\"[::0-9|,]\",\"\").str.upper()\n",
    "guns = df['n_guns_involved'][p_type.notnull()]\n",
    "p_type = p_type[p_type.notnull()]\n",
    "p_type = pd.DataFrame(p_type)\n",
    "victims  = p_type[\"participant_type\"].str.count(\"VICTIM\")\n",
    "suspects = p_type[\"participant_type\"].str.count(\"SUBJECT-SUSPECT\")\n",
    "\n",
    "x,y1=helper.get_mean_vs_data(guns,suspects,9)\n",
    "x,y2=helper.get_mean_vs_data(victims,suspects,9)\n",
    "\n",
    "temp=dict(zip([str(i) for i in x],y1))\n",
    "helper.plot_histogram(temp,dict(range=[1,10]),'Mean num of victims vs num of suspects')\n",
    "\n",
    "temp=dict(zip([str(i) for i in x],y2))\n",
    "helper.plot_histogram(temp,dict(range=[1,10]),'Mean num of guns vs num of suspects')"
   ]
  },
  {
   "cell_type": "code",
   "execution_count": null,
   "metadata": {},
   "outputs": [],
   "source": []
  }
 ],
 "metadata": {
  "kernelspec": {
   "display_name": "Python 3",
   "language": "python",
   "name": "python3"
  },
  "language_info": {
   "codemirror_mode": {
    "name": "ipython",
    "version": 3
   },
   "file_extension": ".py",
   "mimetype": "text/x-python",
   "name": "python",
   "nbconvert_exporter": "python",
   "pygments_lexer": "ipython3",
   "version": "3.7.0"
  }
 },
 "nbformat": 4,
 "nbformat_minor": 2
}
