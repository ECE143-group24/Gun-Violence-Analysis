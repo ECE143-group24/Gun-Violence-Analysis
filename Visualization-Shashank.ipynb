{
 "cells": [
  {
   "cell_type": "code",
   "execution_count": 31,
   "metadata": {},
   "outputs": [
    {
     "data": {
      "text/html": [
       "<script type=\"text/javascript\">window.PlotlyConfig = {MathJaxConfig: 'local'};</script><script type=\"text/javascript\">if (window.MathJax) {MathJax.Hub.Config({SVG: {font: \"STIX-Web\"}});}</script><script>requirejs.config({paths: { 'plotly': ['https://cdn.plot.ly/plotly-latest.min']},});if(!window._Plotly) {require(['plotly'],function(plotly) {window._Plotly=plotly;});}</script>"
      ],
      "text/vnd.plotly.v1+html": [
       "<script type=\"text/javascript\">window.PlotlyConfig = {MathJaxConfig: 'local'};</script><script type=\"text/javascript\">if (window.MathJax) {MathJax.Hub.Config({SVG: {font: \"STIX-Web\"}});}</script><script>requirejs.config({paths: { 'plotly': ['https://cdn.plot.ly/plotly-latest.min']},});if(!window._Plotly) {require(['plotly'],function(plotly) {window._Plotly=plotly;});}</script>"
      ]
     },
     "metadata": {},
     "output_type": "display_data"
    }
   ],
   "source": [
    "import matplotlib.pyplot as plt\n",
    "import pandas as pd\n",
    "\n",
    "from plotly.offline import init_notebook_mode, iplot\n",
    "from collections import Counter, defaultdict\n",
    "import string, os, random\n",
    "import plotly.graph_objs as go\n",
    "import calendar\n",
    "from PIL import Image \n",
    "import numpy as np\n",
    "from datetime import datetime\n",
    "\n",
    "init_notebook_mode(connected=True)"
   ]
  },
  {
   "cell_type": "code",
   "execution_count": 2,
   "metadata": {},
   "outputs": [],
   "source": [
    "# Load the dataset\n",
    "path = \"D:/UCSD/Courses/Fall 2018/ECE 143/Project/gun-violence-data.csv\"\n",
    "df = pd.read_csv(path)\n",
    "\n",
    "df['date'] = pd.to_datetime(df['date'])\n",
    "df['year'] = df['date'].dt.year\n",
    "df['month'] = df['date'].dt.month\n",
    "df['monthday'] = df['date'].dt.day\n",
    "df['weekday'] = df['date'].dt.weekday\n",
    "df['loss'] = df['n_killed'] + df['n_injured']"
   ]
  },
  {
   "cell_type": "code",
   "execution_count": 37,
   "metadata": {},
   "outputs": [
    {
     "data": {
      "text/plain": [
       "Index(['incident_id', 'date', 'state', 'city_or_county', 'address', 'n_killed',\n",
       "       'n_injured', 'incident_url', 'source_url',\n",
       "       'incident_url_fields_missing', 'congressional_district', 'gun_stolen',\n",
       "       'gun_type', 'incident_characteristics', 'latitude',\n",
       "       'location_description', 'longitude', 'n_guns_involved', 'notes',\n",
       "       'participant_age', 'participant_age_group', 'participant_gender',\n",
       "       'participant_name', 'participant_relationship', 'participant_status',\n",
       "       'participant_type', 'sources', 'state_house_district',\n",
       "       'state_senate_district', 'year', 'month', 'monthday', 'weekday',\n",
       "       'loss'],\n",
       "      dtype='object')"
      ]
     },
     "execution_count": 37,
     "metadata": {},
     "output_type": "execute_result"
    }
   ],
   "source": [
    "df.keys()"
   ]
  },
  {
   "cell_type": "code",
   "execution_count": 53,
   "metadata": {},
   "outputs": [
    {
     "name": "stdout",
     "output_type": "stream",
     "text": [
      "Total number of incidents = 239677\n"
     ]
    },
    {
     "data": {
      "application/vnd.plotly.v1+json": {
       "data": [
        {
         "labels": [
          "0",
          "1",
          "2",
          "3+"
         ],
         "type": "pie",
         "uid": "79610715-4c2a-4fef-b9a3-ee9daec8371b",
         "values": [
          185835,
          48436,
          4604,
          802
         ]
        }
       ],
       "layout": {
        "height": 600,
        "legend": {
         "orientation": "h"
        },
        "title": "Number of People Killed"
       }
      },
      "text/html": [
       "<div id=\"4e9a1efb-8e8d-4c05-afc2-5962de66652a\" style=\"height: 600px; width: 100%;\" class=\"plotly-graph-div\"></div><script type=\"text/javascript\">require([\"plotly\"], function(Plotly) { window.PLOTLYENV=window.PLOTLYENV || {};window.PLOTLYENV.BASE_URL=\"https://plot.ly\";Plotly.newPlot(\"4e9a1efb-8e8d-4c05-afc2-5962de66652a\", [{\"labels\": [\"0\", \"1\", \"2\", \"3+\"], \"values\": [185835, 48436, 4604, 802], \"type\": \"pie\", \"uid\": \"79610715-4c2a-4fef-b9a3-ee9daec8371b\"}], {\"height\": 600, \"legend\": {\"orientation\": \"h\"}, \"title\": \"Number of People Killed\"}, {\"showLink\": true, \"linkText\": \"Export to plot.ly\"})});</script><script type=\"text/javascript\">window.addEventListener(\"resize\", function(){window._Plotly.Plots.resize(document.getElementById(\"4e9a1efb-8e8d-4c05-afc2-5962de66652a\"));});</script>"
      ],
      "text/vnd.plotly.v1+html": [
       "<div id=\"4e9a1efb-8e8d-4c05-afc2-5962de66652a\" style=\"height: 600px; width: 100%;\" class=\"plotly-graph-div\"></div><script type=\"text/javascript\">require([\"plotly\"], function(Plotly) { window.PLOTLYENV=window.PLOTLYENV || {};window.PLOTLYENV.BASE_URL=\"https://plot.ly\";Plotly.newPlot(\"4e9a1efb-8e8d-4c05-afc2-5962de66652a\", [{\"labels\": [\"0\", \"1\", \"2\", \"3+\"], \"values\": [185835, 48436, 4604, 802], \"type\": \"pie\", \"uid\": \"79610715-4c2a-4fef-b9a3-ee9daec8371b\"}], {\"height\": 600, \"legend\": {\"orientation\": \"h\"}, \"title\": \"Number of People Killed\"}, {\"showLink\": true, \"linkText\": \"Export to plot.ly\"})});</script><script type=\"text/javascript\">window.addEventListener(\"resize\", function(){window._Plotly.Plots.resize(document.getElementById(\"4e9a1efb-8e8d-4c05-afc2-5962de66652a\"));});</script>"
      ]
     },
     "metadata": {},
     "output_type": "display_data"
    },
    {
     "data": {
      "application/vnd.plotly.v1+json": {
       "data": [
        {
         "labels": [
          "0",
          "1",
          "2",
          "3+"
         ],
         "type": "pie",
         "uid": "3812fa9e-1d0b-483e-b813-87ff985aee3d",
         "values": [
          142487,
          81986,
          11484,
          3720
         ]
        }
       ],
       "layout": {
        "height": 600,
        "legend": {
         "orientation": "h"
        },
        "title": "Number of People Injured"
       }
      },
      "text/html": [
       "<div id=\"cf7146c5-cc9b-423c-bf36-0cdc4d4bf943\" style=\"height: 600px; width: 100%;\" class=\"plotly-graph-div\"></div><script type=\"text/javascript\">require([\"plotly\"], function(Plotly) { window.PLOTLYENV=window.PLOTLYENV || {};window.PLOTLYENV.BASE_URL=\"https://plot.ly\";Plotly.newPlot(\"cf7146c5-cc9b-423c-bf36-0cdc4d4bf943\", [{\"labels\": [\"0\", \"1\", \"2\", \"3+\"], \"values\": [142487, 81986, 11484, 3720], \"type\": \"pie\", \"uid\": \"3812fa9e-1d0b-483e-b813-87ff985aee3d\"}], {\"height\": 600, \"legend\": {\"orientation\": \"h\"}, \"title\": \"Number of People Injured\"}, {\"showLink\": true, \"linkText\": \"Export to plot.ly\"})});</script><script type=\"text/javascript\">window.addEventListener(\"resize\", function(){window._Plotly.Plots.resize(document.getElementById(\"cf7146c5-cc9b-423c-bf36-0cdc4d4bf943\"));});</script>"
      ],
      "text/vnd.plotly.v1+html": [
       "<div id=\"cf7146c5-cc9b-423c-bf36-0cdc4d4bf943\" style=\"height: 600px; width: 100%;\" class=\"plotly-graph-div\"></div><script type=\"text/javascript\">require([\"plotly\"], function(Plotly) { window.PLOTLYENV=window.PLOTLYENV || {};window.PLOTLYENV.BASE_URL=\"https://plot.ly\";Plotly.newPlot(\"cf7146c5-cc9b-423c-bf36-0cdc4d4bf943\", [{\"labels\": [\"0\", \"1\", \"2\", \"3+\"], \"values\": [142487, 81986, 11484, 3720], \"type\": \"pie\", \"uid\": \"3812fa9e-1d0b-483e-b813-87ff985aee3d\"}], {\"height\": 600, \"legend\": {\"orientation\": \"h\"}, \"title\": \"Number of People Injured\"}, {\"showLink\": true, \"linkText\": \"Export to plot.ly\"})});</script><script type=\"text/javascript\">window.addEventListener(\"resize\", function(){window._Plotly.Plots.resize(document.getElementById(\"cf7146c5-cc9b-423c-bf36-0cdc4d4bf943\"));});</script>"
      ]
     },
     "metadata": {},
     "output_type": "display_data"
    },
    {
     "data": {
      "application/vnd.plotly.v1+json": {
       "data": [
        {
         "labels": [
          "1",
          "0",
          "2",
          "3+"
         ],
         "type": "pie",
         "uid": "dabed338-8727-4d85-bca8-acca1fa758c0",
         "values": [
          116228,
          97287,
          19794,
          6368
         ]
        }
       ],
       "layout": {
        "height": 600,
        "legend": {
         "orientation": "h"
        },
        "title": "Number of People Killed/Injured"
       }
      },
      "text/html": [
       "<div id=\"823099eb-eda9-4a57-aa83-6b40e673dc13\" style=\"height: 600px; width: 100%;\" class=\"plotly-graph-div\"></div><script type=\"text/javascript\">require([\"plotly\"], function(Plotly) { window.PLOTLYENV=window.PLOTLYENV || {};window.PLOTLYENV.BASE_URL=\"https://plot.ly\";Plotly.newPlot(\"823099eb-eda9-4a57-aa83-6b40e673dc13\", [{\"labels\": [\"1\", \"0\", \"2\", \"3+\"], \"values\": [116228, 97287, 19794, 6368], \"type\": \"pie\", \"uid\": \"dabed338-8727-4d85-bca8-acca1fa758c0\"}], {\"height\": 600, \"legend\": {\"orientation\": \"h\"}, \"title\": \"Number of People Killed/Injured\"}, {\"showLink\": true, \"linkText\": \"Export to plot.ly\"})});</script><script type=\"text/javascript\">window.addEventListener(\"resize\", function(){window._Plotly.Plots.resize(document.getElementById(\"823099eb-eda9-4a57-aa83-6b40e673dc13\"));});</script>"
      ],
      "text/vnd.plotly.v1+html": [
       "<div id=\"823099eb-eda9-4a57-aa83-6b40e673dc13\" style=\"height: 600px; width: 100%;\" class=\"plotly-graph-div\"></div><script type=\"text/javascript\">require([\"plotly\"], function(Plotly) { window.PLOTLYENV=window.PLOTLYENV || {};window.PLOTLYENV.BASE_URL=\"https://plot.ly\";Plotly.newPlot(\"823099eb-eda9-4a57-aa83-6b40e673dc13\", [{\"labels\": [\"1\", \"0\", \"2\", \"3+\"], \"values\": [116228, 97287, 19794, 6368], \"type\": \"pie\", \"uid\": \"dabed338-8727-4d85-bca8-acca1fa758c0\"}], {\"height\": 600, \"legend\": {\"orientation\": \"h\"}, \"title\": \"Number of People Killed/Injured\"}, {\"showLink\": true, \"linkText\": \"Export to plot.ly\"})});</script><script type=\"text/javascript\">window.addEventListener(\"resize\", function(){window._Plotly.Plots.resize(document.getElementById(\"823099eb-eda9-4a57-aa83-6b40e673dc13\"));});</script>"
      ]
     },
     "metadata": {},
     "output_type": "display_data"
    }
   ],
   "source": [
    "# No. of people killed, injured, both\n",
    "\n",
    "print(\"Total number of incidents = {}\".format(len(df['n_killed'])))\n",
    "\n",
    "def plot_pie_bucket(data,max_num,title):\n",
    "    df['temp'] = data.apply(lambda x : str(max_num)+'+' if x>=max_num else str(x))\n",
    "    tempdf = df['temp'].value_counts().reset_index()\n",
    "\n",
    "    labels = list(tempdf['index'])\n",
    "    values= list(tempdf['temp'])\n",
    "\n",
    "    trace1 = go.Pie(labels=labels, values=values)\n",
    "    layout = dict(height=600, title=title, legend=dict(orientation=\"h\"));\n",
    "    fig = go.Figure(data=[trace1], layout=layout)\n",
    "    iplot(fig)\n",
    "    \n",
    "plot_pie_bucket(df['n_killed'],3,'Number of People Killed')\n",
    "plot_pie_bucket(df['n_injured'],3,'Number of People Injured')\n",
    "plot_pie_bucket(df['loss'],3,'Number of People Killed/Injured')"
   ]
  },
  {
   "cell_type": "code",
   "execution_count": 40,
   "metadata": {},
   "outputs": [
    {
     "name": "stdout",
     "output_type": "stream",
     "text": [
      "\n",
      "\n",
      "THE FIVE MOST SERIOUS INCIDENTS (IN TERMS OF KILLED+INJURED)\n"
     ]
    },
    {
     "data": {
      "text/html": [
       "<div>\n",
       "<style scoped>\n",
       "    .dataframe tbody tr th:only-of-type {\n",
       "        vertical-align: middle;\n",
       "    }\n",
       "\n",
       "    .dataframe tbody tr th {\n",
       "        vertical-align: top;\n",
       "    }\n",
       "\n",
       "    .dataframe thead th {\n",
       "        text-align: right;\n",
       "    }\n",
       "</style>\n",
       "<table border=\"1\" class=\"dataframe\">\n",
       "  <thead>\n",
       "    <tr style=\"text-align: right;\">\n",
       "      <th></th>\n",
       "      <th>year</th>\n",
       "      <th>state</th>\n",
       "      <th>city_or_county</th>\n",
       "      <th>n_killed</th>\n",
       "      <th>n_injured</th>\n",
       "    </tr>\n",
       "  </thead>\n",
       "  <tbody>\n",
       "    <tr>\n",
       "      <th>130448</th>\n",
       "      <td>2016</td>\n",
       "      <td>Florida</td>\n",
       "      <td>Orlando</td>\n",
       "      <td>50</td>\n",
       "      <td>53</td>\n",
       "    </tr>\n",
       "    <tr>\n",
       "      <th>217151</th>\n",
       "      <td>2017</td>\n",
       "      <td>Texas</td>\n",
       "      <td>Sutherland Springs</td>\n",
       "      <td>27</td>\n",
       "      <td>20</td>\n",
       "    </tr>\n",
       "    <tr>\n",
       "      <th>101531</th>\n",
       "      <td>2015</td>\n",
       "      <td>California</td>\n",
       "      <td>San Bernardino</td>\n",
       "      <td>16</td>\n",
       "      <td>19</td>\n",
       "    </tr>\n",
       "    <tr>\n",
       "      <th>232745</th>\n",
       "      <td>2018</td>\n",
       "      <td>Florida</td>\n",
       "      <td>Pompano Beach (Parkland)</td>\n",
       "      <td>17</td>\n",
       "      <td>17</td>\n",
       "    </tr>\n",
       "    <tr>\n",
       "      <th>70511</th>\n",
       "      <td>2015</td>\n",
       "      <td>Texas</td>\n",
       "      <td>Waco</td>\n",
       "      <td>9</td>\n",
       "      <td>18</td>\n",
       "    </tr>\n",
       "  </tbody>\n",
       "</table>\n",
       "</div>"
      ],
      "text/plain": [
       "        year       state            city_or_county  n_killed  n_injured\n",
       "130448  2016     Florida                   Orlando        50         53\n",
       "217151  2017       Texas        Sutherland Springs        27         20\n",
       "101531  2015  California            San Bernardino        16         19\n",
       "232745  2018     Florida  Pompano Beach (Parkland)        17         17\n",
       "70511   2015       Texas                      Waco         9         18"
      ]
     },
     "execution_count": 40,
     "metadata": {},
     "output_type": "execute_result"
    }
   ],
   "source": [
    "# Most serious incidents\n",
    "\n",
    "print(\"\\n\\nThe five most serious incidents (in terms of killed+injured)\".upper())\n",
    "\n",
    "df1 = df.sort_values(['loss'], ascending=[False])\n",
    "df1[['year', 'state', 'city_or_county', 'n_killed', 'n_injured']].head(5)"
   ]
  },
  {
   "cell_type": "code",
   "execution_count": 38,
   "metadata": {},
   "outputs": [],
   "source": [
    "def get_user_mapping(txt):\n",
    "    if txt == \"NA\":\n",
    "        return {}\n",
    "    mapping = {}\n",
    "    for d in txt.split(\"||\"):\n",
    "        try:\n",
    "            key = d.split(\"::\")[0]\n",
    "            val = (d.split(\"::\")[1]).lower()\n",
    "            mapping[key] = val\n",
    "        except:\n",
    "            pass\n",
    "    return mapping\n",
    "\n",
    "df['participant_type'] = df['participant_type'].fillna(\"NA\")\n",
    "df['participant_type_map'] = df['participant_type'].apply(lambda x : get_user_mapping(x))\n",
    "df['participant_age'] = df['participant_age'].fillna(\"NA\")\n",
    "df['participant_age_map'] = df['participant_age'].apply(lambda x : get_user_mapping(x))"
   ]
  },
  {
   "cell_type": "code",
   "execution_count": 48,
   "metadata": {},
   "outputs": [],
   "source": [
    "## Finding the Suspect Age Groups\n",
    "\n",
    "def find_type_distribution(person_type):\n",
    "    suspect_age_groups = defaultdict(int)\n",
    "    for _, row in df.iterrows():\n",
    "        for k,v in row['participant_type_map'].items():\n",
    "            if person_type in v and k in row['participant_age_map']:\n",
    "                ag = row['participant_age_map'][k]\n",
    "                suspect_age_groups[ag] += 1\n",
    "\n",
    "    trace1 = go.Bar(x=list(suspect_age_groups.keys()), y=list(suspect_age_groups.values()))\n",
    "    layout = dict(height=400, title=(person_type+' age histogram').upper(), xaxis=dict(range=[0, 100]), legend=dict(orientation=\"h\"));\n",
    "    fig = go.Figure(data=[trace1], layout=layout)\n",
    "    iplot(fig)"
   ]
  },
  {
   "cell_type": "code",
   "execution_count": 49,
   "metadata": {},
   "outputs": [
    {
     "data": {
      "application/vnd.plotly.v1+json": {
       "data": [
        {
         "type": "bar",
         "uid": "22799e4f-47bc-4956-8435-cc7d44489947",
         "x": [
          "25",
          "31",
          "33",
          "47",
          "15",
          "48",
          "29",
          "24",
          "18",
          "19",
          "22",
          "23",
          "68",
          "20",
          "41",
          "17",
          "64",
          "21",
          "43",
          "28",
          "27",
          "55",
          "37",
          "39",
          "32",
          "35",
          "42",
          "30",
          "59",
          "44",
          "40",
          "72",
          "26",
          "34",
          "16",
          "56",
          "51",
          "45",
          "38",
          "36",
          "12",
          "13",
          "63",
          "58",
          "52",
          "49",
          "70",
          "46",
          "88",
          "54",
          "61",
          "66",
          "71",
          "14",
          "69",
          "53",
          "50",
          "60",
          "80",
          "4",
          "75",
          "67",
          "10",
          "62",
          "57",
          "76",
          "74",
          "73",
          "81",
          "83",
          "11",
          "9",
          "3",
          "65",
          "86",
          "6",
          "7",
          "84",
          "2",
          "5",
          "82",
          "79",
          "90",
          "8",
          "87",
          "93",
          "89",
          "85",
          "77",
          "78",
          "94",
          "96",
          "98",
          "91",
          "1",
          "0",
          "92",
          "311"
         ],
         "y": [
          4570,
          2741,
          2405,
          836,
          1501,
          834,
          3258,
          5031,
          6497,
          6540,
          5520,
          5187,
          159,
          5818,
          1180,
          4303,
          234,
          5652,
          1047,
          3452,
          3899,
          570,
          1858,
          1405,
          2672,
          2293,
          1109,
          3011,
          432,
          975,
          1371,
          106,
          4194,
          2357,
          2641,
          480,
          659,
          981,
          1679,
          1933,
          135,
          330,
          254,
          425,
          653,
          737,
          133,
          882,
          12,
          598,
          320,
          166,
          124,
          760,
          130,
          673,
          709,
          335,
          36,
          26,
          75,
          157,
          48,
          270,
          438,
          79,
          84,
          84,
          37,
          30,
          87,
          38,
          46,
          204,
          28,
          41,
          31,
          24,
          26,
          36,
          29,
          29,
          13,
          37,
          15,
          3,
          7,
          22,
          45,
          39,
          4,
          2,
          1,
          5,
          3,
          1,
          2,
          1
         ]
        }
       ],
       "layout": {
        "height": 400,
        "legend": {
         "orientation": "h"
        },
        "title": "SUSPECT AGE HISTOGRAM",
        "xaxis": {
         "range": [
          0,
          100
         ]
        }
       }
      },
      "text/html": [
       "<div id=\"81f49cb1-cc5b-4d80-b450-53792c252ef9\" style=\"height: 400px; width: 100%;\" class=\"plotly-graph-div\"></div><script type=\"text/javascript\">require([\"plotly\"], function(Plotly) { window.PLOTLYENV=window.PLOTLYENV || {};window.PLOTLYENV.BASE_URL=\"https://plot.ly\";Plotly.newPlot(\"81f49cb1-cc5b-4d80-b450-53792c252ef9\", [{\"x\": [\"25\", \"31\", \"33\", \"47\", \"15\", \"48\", \"29\", \"24\", \"18\", \"19\", \"22\", \"23\", \"68\", \"20\", \"41\", \"17\", \"64\", \"21\", \"43\", \"28\", \"27\", \"55\", \"37\", \"39\", \"32\", \"35\", \"42\", \"30\", \"59\", \"44\", \"40\", \"72\", \"26\", \"34\", \"16\", \"56\", \"51\", \"45\", \"38\", \"36\", \"12\", \"13\", \"63\", \"58\", \"52\", \"49\", \"70\", \"46\", \"88\", \"54\", \"61\", \"66\", \"71\", \"14\", \"69\", \"53\", \"50\", \"60\", \"80\", \"4\", \"75\", \"67\", \"10\", \"62\", \"57\", \"76\", \"74\", \"73\", \"81\", \"83\", \"11\", \"9\", \"3\", \"65\", \"86\", \"6\", \"7\", \"84\", \"2\", \"5\", \"82\", \"79\", \"90\", \"8\", \"87\", \"93\", \"89\", \"85\", \"77\", \"78\", \"94\", \"96\", \"98\", \"91\", \"1\", \"0\", \"92\", \"311\"], \"y\": [4570, 2741, 2405, 836, 1501, 834, 3258, 5031, 6497, 6540, 5520, 5187, 159, 5818, 1180, 4303, 234, 5652, 1047, 3452, 3899, 570, 1858, 1405, 2672, 2293, 1109, 3011, 432, 975, 1371, 106, 4194, 2357, 2641, 480, 659, 981, 1679, 1933, 135, 330, 254, 425, 653, 737, 133, 882, 12, 598, 320, 166, 124, 760, 130, 673, 709, 335, 36, 26, 75, 157, 48, 270, 438, 79, 84, 84, 37, 30, 87, 38, 46, 204, 28, 41, 31, 24, 26, 36, 29, 29, 13, 37, 15, 3, 7, 22, 45, 39, 4, 2, 1, 5, 3, 1, 2, 1], \"type\": \"bar\", \"uid\": \"22799e4f-47bc-4956-8435-cc7d44489947\"}], {\"height\": 400, \"legend\": {\"orientation\": \"h\"}, \"title\": \"SUSPECT AGE HISTOGRAM\", \"xaxis\": {\"range\": [0, 100]}}, {\"showLink\": true, \"linkText\": \"Export to plot.ly\"})});</script><script type=\"text/javascript\">window.addEventListener(\"resize\", function(){window._Plotly.Plots.resize(document.getElementById(\"81f49cb1-cc5b-4d80-b450-53792c252ef9\"));});</script>"
      ],
      "text/vnd.plotly.v1+html": [
       "<div id=\"81f49cb1-cc5b-4d80-b450-53792c252ef9\" style=\"height: 400px; width: 100%;\" class=\"plotly-graph-div\"></div><script type=\"text/javascript\">require([\"plotly\"], function(Plotly) { window.PLOTLYENV=window.PLOTLYENV || {};window.PLOTLYENV.BASE_URL=\"https://plot.ly\";Plotly.newPlot(\"81f49cb1-cc5b-4d80-b450-53792c252ef9\", [{\"x\": [\"25\", \"31\", \"33\", \"47\", \"15\", \"48\", \"29\", \"24\", \"18\", \"19\", \"22\", \"23\", \"68\", \"20\", \"41\", \"17\", \"64\", \"21\", \"43\", \"28\", \"27\", \"55\", \"37\", \"39\", \"32\", \"35\", \"42\", \"30\", \"59\", \"44\", \"40\", \"72\", \"26\", \"34\", \"16\", \"56\", \"51\", \"45\", \"38\", \"36\", \"12\", \"13\", \"63\", \"58\", \"52\", \"49\", \"70\", \"46\", \"88\", \"54\", \"61\", \"66\", \"71\", \"14\", \"69\", \"53\", \"50\", \"60\", \"80\", \"4\", \"75\", \"67\", \"10\", \"62\", \"57\", \"76\", \"74\", \"73\", \"81\", \"83\", \"11\", \"9\", \"3\", \"65\", \"86\", \"6\", \"7\", \"84\", \"2\", \"5\", \"82\", \"79\", \"90\", \"8\", \"87\", \"93\", \"89\", \"85\", \"77\", \"78\", \"94\", \"96\", \"98\", \"91\", \"1\", \"0\", \"92\", \"311\"], \"y\": [4570, 2741, 2405, 836, 1501, 834, 3258, 5031, 6497, 6540, 5520, 5187, 159, 5818, 1180, 4303, 234, 5652, 1047, 3452, 3899, 570, 1858, 1405, 2672, 2293, 1109, 3011, 432, 975, 1371, 106, 4194, 2357, 2641, 480, 659, 981, 1679, 1933, 135, 330, 254, 425, 653, 737, 133, 882, 12, 598, 320, 166, 124, 760, 130, 673, 709, 335, 36, 26, 75, 157, 48, 270, 438, 79, 84, 84, 37, 30, 87, 38, 46, 204, 28, 41, 31, 24, 26, 36, 29, 29, 13, 37, 15, 3, 7, 22, 45, 39, 4, 2, 1, 5, 3, 1, 2, 1], \"type\": \"bar\", \"uid\": \"22799e4f-47bc-4956-8435-cc7d44489947\"}], {\"height\": 400, \"legend\": {\"orientation\": \"h\"}, \"title\": \"SUSPECT AGE HISTOGRAM\", \"xaxis\": {\"range\": [0, 100]}}, {\"showLink\": true, \"linkText\": \"Export to plot.ly\"})});</script><script type=\"text/javascript\">window.addEventListener(\"resize\", function(){window._Plotly.Plots.resize(document.getElementById(\"81f49cb1-cc5b-4d80-b450-53792c252ef9\"));});</script>"
      ]
     },
     "metadata": {},
     "output_type": "display_data"
    },
    {
     "data": {
      "application/vnd.plotly.v1+json": {
       "data": [
        {
         "type": "bar",
         "uid": "5fa5d994-93b3-4574-a5d7-298c67c6f892",
         "x": [
          "20",
          "33",
          "34",
          "29",
          "56",
          "18",
          "46",
          "14",
          "23",
          "55",
          "51",
          "40",
          "9",
          "5",
          "2",
          "15",
          "19",
          "28",
          "78",
          "41",
          "22",
          "21",
          "39",
          "35",
          "26",
          "69",
          "27",
          "37",
          "50",
          "42",
          "17",
          "25",
          "16",
          "13",
          "68",
          "57",
          "66",
          "67",
          "62",
          "36",
          "24",
          "30",
          "32",
          "1",
          "3",
          "63",
          "64",
          "31",
          "10",
          "48",
          "53",
          "60",
          "58",
          "72",
          "45",
          "43",
          "49",
          "12",
          "44",
          "70",
          "0",
          "54",
          "6",
          "38",
          "8",
          "4",
          "7",
          "52",
          "47",
          "79",
          "11",
          "80",
          "59",
          "73",
          "61",
          "85",
          "88",
          "71",
          "89",
          "90",
          "65",
          "74",
          "77",
          "86",
          "84",
          "96",
          "81",
          "83",
          "82",
          "87",
          "75",
          "76",
          "92",
          "91",
          "94",
          "101",
          "97",
          "95",
          "93",
          "99",
          "100",
          "209"
         ],
         "y": [
          4923,
          2334,
          2216,
          2979,
          561,
          4515,
          878,
          1108,
          4684,
          649,
          729,
          1409,
          258,
          271,
          301,
          1811,
          4995,
          3267,
          76,
          1203,
          4675,
          4797,
          1400,
          2096,
          3912,
          184,
          3562,
          1800,
          825,
          1087,
          3901,
          4363,
          2797,
          647,
          228,
          518,
          229,
          242,
          364,
          1854,
          4592,
          2791,
          2489,
          210,
          359,
          318,
          253,
          2550,
          276,
          867,
          674,
          478,
          468,
          128,
          995,
          1120,
          797,
          384,
          1060,
          184,
          89,
          618,
          243,
          1576,
          245,
          336,
          272,
          717,
          857,
          85,
          301,
          89,
          418,
          137,
          387,
          45,
          27,
          195,
          30,
          20,
          273,
          119,
          106,
          30,
          52,
          4,
          76,
          59,
          56,
          31,
          128,
          113,
          14,
          14,
          8,
          2,
          2,
          5,
          4,
          3,
          1,
          1
         ]
        }
       ],
       "layout": {
        "height": 400,
        "legend": {
         "orientation": "h"
        },
        "title": "VICTIM AGE HISTOGRAM",
        "xaxis": {
         "range": [
          0,
          100
         ]
        }
       }
      },
      "text/html": [
       "<div id=\"f7c22ef4-56e1-499b-92c9-f1921b19016a\" style=\"height: 400px; width: 100%;\" class=\"plotly-graph-div\"></div><script type=\"text/javascript\">require([\"plotly\"], function(Plotly) { window.PLOTLYENV=window.PLOTLYENV || {};window.PLOTLYENV.BASE_URL=\"https://plot.ly\";Plotly.newPlot(\"f7c22ef4-56e1-499b-92c9-f1921b19016a\", [{\"x\": [\"20\", \"33\", \"34\", \"29\", \"56\", \"18\", \"46\", \"14\", \"23\", \"55\", \"51\", \"40\", \"9\", \"5\", \"2\", \"15\", \"19\", \"28\", \"78\", \"41\", \"22\", \"21\", \"39\", \"35\", \"26\", \"69\", \"27\", \"37\", \"50\", \"42\", \"17\", \"25\", \"16\", \"13\", \"68\", \"57\", \"66\", \"67\", \"62\", \"36\", \"24\", \"30\", \"32\", \"1\", \"3\", \"63\", \"64\", \"31\", \"10\", \"48\", \"53\", \"60\", \"58\", \"72\", \"45\", \"43\", \"49\", \"12\", \"44\", \"70\", \"0\", \"54\", \"6\", \"38\", \"8\", \"4\", \"7\", \"52\", \"47\", \"79\", \"11\", \"80\", \"59\", \"73\", \"61\", \"85\", \"88\", \"71\", \"89\", \"90\", \"65\", \"74\", \"77\", \"86\", \"84\", \"96\", \"81\", \"83\", \"82\", \"87\", \"75\", \"76\", \"92\", \"91\", \"94\", \"101\", \"97\", \"95\", \"93\", \"99\", \"100\", \"209\"], \"y\": [4923, 2334, 2216, 2979, 561, 4515, 878, 1108, 4684, 649, 729, 1409, 258, 271, 301, 1811, 4995, 3267, 76, 1203, 4675, 4797, 1400, 2096, 3912, 184, 3562, 1800, 825, 1087, 3901, 4363, 2797, 647, 228, 518, 229, 242, 364, 1854, 4592, 2791, 2489, 210, 359, 318, 253, 2550, 276, 867, 674, 478, 468, 128, 995, 1120, 797, 384, 1060, 184, 89, 618, 243, 1576, 245, 336, 272, 717, 857, 85, 301, 89, 418, 137, 387, 45, 27, 195, 30, 20, 273, 119, 106, 30, 52, 4, 76, 59, 56, 31, 128, 113, 14, 14, 8, 2, 2, 5, 4, 3, 1, 1], \"type\": \"bar\", \"uid\": \"5fa5d994-93b3-4574-a5d7-298c67c6f892\"}], {\"height\": 400, \"legend\": {\"orientation\": \"h\"}, \"title\": \"VICTIM AGE HISTOGRAM\", \"xaxis\": {\"range\": [0, 100]}}, {\"showLink\": true, \"linkText\": \"Export to plot.ly\"})});</script><script type=\"text/javascript\">window.addEventListener(\"resize\", function(){window._Plotly.Plots.resize(document.getElementById(\"f7c22ef4-56e1-499b-92c9-f1921b19016a\"));});</script>"
      ],
      "text/vnd.plotly.v1+html": [
       "<div id=\"f7c22ef4-56e1-499b-92c9-f1921b19016a\" style=\"height: 400px; width: 100%;\" class=\"plotly-graph-div\"></div><script type=\"text/javascript\">require([\"plotly\"], function(Plotly) { window.PLOTLYENV=window.PLOTLYENV || {};window.PLOTLYENV.BASE_URL=\"https://plot.ly\";Plotly.newPlot(\"f7c22ef4-56e1-499b-92c9-f1921b19016a\", [{\"x\": [\"20\", \"33\", \"34\", \"29\", \"56\", \"18\", \"46\", \"14\", \"23\", \"55\", \"51\", \"40\", \"9\", \"5\", \"2\", \"15\", \"19\", \"28\", \"78\", \"41\", \"22\", \"21\", \"39\", \"35\", \"26\", \"69\", \"27\", \"37\", \"50\", \"42\", \"17\", \"25\", \"16\", \"13\", \"68\", \"57\", \"66\", \"67\", \"62\", \"36\", \"24\", \"30\", \"32\", \"1\", \"3\", \"63\", \"64\", \"31\", \"10\", \"48\", \"53\", \"60\", \"58\", \"72\", \"45\", \"43\", \"49\", \"12\", \"44\", \"70\", \"0\", \"54\", \"6\", \"38\", \"8\", \"4\", \"7\", \"52\", \"47\", \"79\", \"11\", \"80\", \"59\", \"73\", \"61\", \"85\", \"88\", \"71\", \"89\", \"90\", \"65\", \"74\", \"77\", \"86\", \"84\", \"96\", \"81\", \"83\", \"82\", \"87\", \"75\", \"76\", \"92\", \"91\", \"94\", \"101\", \"97\", \"95\", \"93\", \"99\", \"100\", \"209\"], \"y\": [4923, 2334, 2216, 2979, 561, 4515, 878, 1108, 4684, 649, 729, 1409, 258, 271, 301, 1811, 4995, 3267, 76, 1203, 4675, 4797, 1400, 2096, 3912, 184, 3562, 1800, 825, 1087, 3901, 4363, 2797, 647, 228, 518, 229, 242, 364, 1854, 4592, 2791, 2489, 210, 359, 318, 253, 2550, 276, 867, 674, 478, 468, 128, 995, 1120, 797, 384, 1060, 184, 89, 618, 243, 1576, 245, 336, 272, 717, 857, 85, 301, 89, 418, 137, 387, 45, 27, 195, 30, 20, 273, 119, 106, 30, 52, 4, 76, 59, 56, 31, 128, 113, 14, 14, 8, 2, 2, 5, 4, 3, 1, 1], \"type\": \"bar\", \"uid\": \"5fa5d994-93b3-4574-a5d7-298c67c6f892\"}], {\"height\": 400, \"legend\": {\"orientation\": \"h\"}, \"title\": \"VICTIM AGE HISTOGRAM\", \"xaxis\": {\"range\": [0, 100]}}, {\"showLink\": true, \"linkText\": \"Export to plot.ly\"})});</script><script type=\"text/javascript\">window.addEventListener(\"resize\", function(){window._Plotly.Plots.resize(document.getElementById(\"f7c22ef4-56e1-499b-92c9-f1921b19016a\"));});</script>"
      ]
     },
     "metadata": {},
     "output_type": "display_data"
    }
   ],
   "source": [
    "find_type_distribution('suspect')\n",
    "find_type_distribution('victim')"
   ]
  },
  {
   "cell_type": "code",
   "execution_count": null,
   "metadata": {},
   "outputs": [],
   "source": []
  }
 ],
 "metadata": {
  "kernelspec": {
   "display_name": "Python 3",
   "language": "python",
   "name": "python3"
  },
  "language_info": {
   "codemirror_mode": {
    "name": "ipython",
    "version": 3
   },
   "file_extension": ".py",
   "mimetype": "text/x-python",
   "name": "python",
   "nbconvert_exporter": "python",
   "pygments_lexer": "ipython3",
   "version": "3.7.0"
  }
 },
 "nbformat": 4,
 "nbformat_minor": 2
}
