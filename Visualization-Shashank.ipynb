{
 "cells": [
  {
   "cell_type": "code",
   "execution_count": 4,
   "metadata": {},
   "outputs": [],
   "source": [
    "from plotly.offline import init_notebook_mode, iplot\n",
    "import plotly.graph_objs as go\n",
    "import pandas as pd\n",
    "\n",
    "from collections import Counter\n",
    "import string, os, random\n",
    "import calendar\n",
    "from PIL import Image \n",
    "import numpy as np\n",
    "from datetime import datetime"
   ]
  },
  {
   "cell_type": "code",
   "execution_count": 36,
   "metadata": {},
   "outputs": [
    {
     "data": {
      "text/html": [
       "<script type=\"text/javascript\">window.PlotlyConfig = {MathJaxConfig: 'local'};</script><script type=\"text/javascript\">if (window.MathJax) {MathJax.Hub.Config({SVG: {font: \"STIX-Web\"}});}</script><script>requirejs.config({paths: { 'plotly': ['https://cdn.plot.ly/plotly-latest.min']},});if(!window._Plotly) {require(['plotly'],function(plotly) {window._Plotly=plotly;});}</script>"
      ],
      "text/vnd.plotly.v1+html": [
       "<script type=\"text/javascript\">window.PlotlyConfig = {MathJaxConfig: 'local'};</script><script type=\"text/javascript\">if (window.MathJax) {MathJax.Hub.Config({SVG: {font: \"STIX-Web\"}});}</script><script>requirejs.config({paths: { 'plotly': ['https://cdn.plot.ly/plotly-latest.min']},});if(!window._Plotly) {require(['plotly'],function(plotly) {window._Plotly=plotly;});}</script>"
      ]
     },
     "metadata": {},
     "output_type": "display_data"
    }
   ],
   "source": [
    "init_notebook_mode(connected=True)\n",
    "\n",
    "# Load the dataset\n",
    "path = \"D:/UCSD/Courses/Fall 2018/ECE 143/Project/gun-violence-data.csv\"\n",
    "df = pd.read_csv(path)\n",
    "\n",
    "df['date'] = pd.to_datetime(df['date'])\n",
    "df['year'] = df['date'].dt.year\n",
    "df['month'] = df['date'].dt.month\n",
    "df['monthday'] = df['date'].dt.day\n",
    "df['weekday'] = df['date'].dt.weekday\n",
    "df['loss'] = df['n_killed'] + df['n_injured']"
   ]
  },
  {
   "cell_type": "code",
   "execution_count": 37,
   "metadata": {},
   "outputs": [
    {
     "data": {
      "text/plain": [
       "Index(['incident_id', 'date', 'state', 'city_or_county', 'address', 'n_killed',\n",
       "       'n_injured', 'incident_url', 'source_url',\n",
       "       'incident_url_fields_missing', 'congressional_district', 'gun_stolen',\n",
       "       'gun_type', 'incident_characteristics', 'latitude',\n",
       "       'location_description', 'longitude', 'n_guns_involved', 'notes',\n",
       "       'participant_age', 'participant_age_group', 'participant_gender',\n",
       "       'participant_name', 'participant_relationship', 'participant_status',\n",
       "       'participant_type', 'sources', 'state_house_district',\n",
       "       'state_senate_district', 'year', 'month', 'monthday', 'weekday',\n",
       "       'loss'],\n",
       "      dtype='object')"
      ]
     },
     "execution_count": 37,
     "metadata": {},
     "output_type": "execute_result"
    }
   ],
   "source": [
    "df.keys()"
   ]
  },
  {
   "cell_type": "code",
   "execution_count": 38,
   "metadata": {},
   "outputs": [
    {
     "name": "stdout",
     "output_type": "stream",
     "text": [
      "Total number of incidents = 239677\n"
     ]
    },
    {
     "data": {
      "application/vnd.plotly.v1+json": {
       "data": [
        {
         "labels": [
          "0",
          "1",
          "2",
          "3",
          "4+"
         ],
         "type": "pie",
         "uid": "9cfa0328-5719-4a35-857b-0cc1ea3b498d",
         "values": [
          185835,
          48436,
          4604,
          595,
          207
         ]
        }
       ],
       "layout": {
        "height": 600,
        "legend": {
         "orientation": "h"
        },
        "title": "Number of People Killed"
       }
      },
      "text/html": [
       "<div id=\"e393d6c0-defa-4aa2-95c6-cf126f826142\" style=\"height: 600px; width: 100%;\" class=\"plotly-graph-div\"></div><script type=\"text/javascript\">require([\"plotly\"], function(Plotly) { window.PLOTLYENV=window.PLOTLYENV || {};window.PLOTLYENV.BASE_URL=\"https://plot.ly\";Plotly.newPlot(\"e393d6c0-defa-4aa2-95c6-cf126f826142\", [{\"labels\": [\"0\", \"1\", \"2\", \"3\", \"4+\"], \"values\": [185835, 48436, 4604, 595, 207], \"type\": \"pie\", \"uid\": \"9cfa0328-5719-4a35-857b-0cc1ea3b498d\"}], {\"height\": 600, \"legend\": {\"orientation\": \"h\"}, \"title\": \"Number of People Killed\"}, {\"showLink\": true, \"linkText\": \"Export to plot.ly\"})});</script><script type=\"text/javascript\">window.addEventListener(\"resize\", function(){window._Plotly.Plots.resize(document.getElementById(\"e393d6c0-defa-4aa2-95c6-cf126f826142\"));});</script>"
      ],
      "text/vnd.plotly.v1+html": [
       "<div id=\"e393d6c0-defa-4aa2-95c6-cf126f826142\" style=\"height: 600px; width: 100%;\" class=\"plotly-graph-div\"></div><script type=\"text/javascript\">require([\"plotly\"], function(Plotly) { window.PLOTLYENV=window.PLOTLYENV || {};window.PLOTLYENV.BASE_URL=\"https://plot.ly\";Plotly.newPlot(\"e393d6c0-defa-4aa2-95c6-cf126f826142\", [{\"labels\": [\"0\", \"1\", \"2\", \"3\", \"4+\"], \"values\": [185835, 48436, 4604, 595, 207], \"type\": \"pie\", \"uid\": \"9cfa0328-5719-4a35-857b-0cc1ea3b498d\"}], {\"height\": 600, \"legend\": {\"orientation\": \"h\"}, \"title\": \"Number of People Killed\"}, {\"showLink\": true, \"linkText\": \"Export to plot.ly\"})});</script><script type=\"text/javascript\">window.addEventListener(\"resize\", function(){window._Plotly.Plots.resize(document.getElementById(\"e393d6c0-defa-4aa2-95c6-cf126f826142\"));});</script>"
      ]
     },
     "metadata": {},
     "output_type": "display_data"
    },
    {
     "data": {
      "application/vnd.plotly.v1+json": {
       "data": [
        {
         "labels": [
          "0",
          "1",
          "2",
          "3",
          "4+"
         ],
         "type": "pie",
         "uid": "ee4a33df-98c0-4be4-98de-82500a7dc321",
         "values": [
          142487,
          81986,
          11484,
          2513,
          1207
         ]
        }
       ],
       "layout": {
        "height": 600,
        "legend": {
         "orientation": "h"
        },
        "title": "Number of People Injured"
       }
      },
      "text/html": [
       "<div id=\"fff11ee1-6300-4da0-8fb1-9102a196418d\" style=\"height: 600px; width: 100%;\" class=\"plotly-graph-div\"></div><script type=\"text/javascript\">require([\"plotly\"], function(Plotly) { window.PLOTLYENV=window.PLOTLYENV || {};window.PLOTLYENV.BASE_URL=\"https://plot.ly\";Plotly.newPlot(\"fff11ee1-6300-4da0-8fb1-9102a196418d\", [{\"labels\": [\"0\", \"1\", \"2\", \"3\", \"4+\"], \"values\": [142487, 81986, 11484, 2513, 1207], \"type\": \"pie\", \"uid\": \"ee4a33df-98c0-4be4-98de-82500a7dc321\"}], {\"height\": 600, \"legend\": {\"orientation\": \"h\"}, \"title\": \"Number of People Injured\"}, {\"showLink\": true, \"linkText\": \"Export to plot.ly\"})});</script><script type=\"text/javascript\">window.addEventListener(\"resize\", function(){window._Plotly.Plots.resize(document.getElementById(\"fff11ee1-6300-4da0-8fb1-9102a196418d\"));});</script>"
      ],
      "text/vnd.plotly.v1+html": [
       "<div id=\"fff11ee1-6300-4da0-8fb1-9102a196418d\" style=\"height: 600px; width: 100%;\" class=\"plotly-graph-div\"></div><script type=\"text/javascript\">require([\"plotly\"], function(Plotly) { window.PLOTLYENV=window.PLOTLYENV || {};window.PLOTLYENV.BASE_URL=\"https://plot.ly\";Plotly.newPlot(\"fff11ee1-6300-4da0-8fb1-9102a196418d\", [{\"labels\": [\"0\", \"1\", \"2\", \"3\", \"4+\"], \"values\": [142487, 81986, 11484, 2513, 1207], \"type\": \"pie\", \"uid\": \"ee4a33df-98c0-4be4-98de-82500a7dc321\"}], {\"height\": 600, \"legend\": {\"orientation\": \"h\"}, \"title\": \"Number of People Injured\"}, {\"showLink\": true, \"linkText\": \"Export to plot.ly\"})});</script><script type=\"text/javascript\">window.addEventListener(\"resize\", function(){window._Plotly.Plots.resize(document.getElementById(\"fff11ee1-6300-4da0-8fb1-9102a196418d\"));});</script>"
      ]
     },
     "metadata": {},
     "output_type": "display_data"
    },
    {
     "data": {
      "application/vnd.plotly.v1+json": {
       "data": [
        {
         "labels": [
          "1",
          "0",
          "2",
          "3",
          "4+"
         ],
         "type": "pie",
         "uid": "70912605-bfa1-4511-af5e-7113ee8235ba",
         "values": [
          116228,
          97287,
          19794,
          4266,
          2102
         ]
        }
       ],
       "layout": {
        "height": 600,
        "legend": {
         "orientation": "h"
        },
        "title": "Number of People Killed/Injured"
       }
      },
      "text/html": [
       "<div id=\"de6b97d8-3746-4b41-9041-6c4adfa6e44a\" style=\"height: 600px; width: 100%;\" class=\"plotly-graph-div\"></div><script type=\"text/javascript\">require([\"plotly\"], function(Plotly) { window.PLOTLYENV=window.PLOTLYENV || {};window.PLOTLYENV.BASE_URL=\"https://plot.ly\";Plotly.newPlot(\"de6b97d8-3746-4b41-9041-6c4adfa6e44a\", [{\"labels\": [\"1\", \"0\", \"2\", \"3\", \"4+\"], \"values\": [116228, 97287, 19794, 4266, 2102], \"type\": \"pie\", \"uid\": \"70912605-bfa1-4511-af5e-7113ee8235ba\"}], {\"height\": 600, \"legend\": {\"orientation\": \"h\"}, \"title\": \"Number of People Killed/Injured\"}, {\"showLink\": true, \"linkText\": \"Export to plot.ly\"})});</script><script type=\"text/javascript\">window.addEventListener(\"resize\", function(){window._Plotly.Plots.resize(document.getElementById(\"de6b97d8-3746-4b41-9041-6c4adfa6e44a\"));});</script>"
      ],
      "text/vnd.plotly.v1+html": [
       "<div id=\"de6b97d8-3746-4b41-9041-6c4adfa6e44a\" style=\"height: 600px; width: 100%;\" class=\"plotly-graph-div\"></div><script type=\"text/javascript\">require([\"plotly\"], function(Plotly) { window.PLOTLYENV=window.PLOTLYENV || {};window.PLOTLYENV.BASE_URL=\"https://plot.ly\";Plotly.newPlot(\"de6b97d8-3746-4b41-9041-6c4adfa6e44a\", [{\"labels\": [\"1\", \"0\", \"2\", \"3\", \"4+\"], \"values\": [116228, 97287, 19794, 4266, 2102], \"type\": \"pie\", \"uid\": \"70912605-bfa1-4511-af5e-7113ee8235ba\"}], {\"height\": 600, \"legend\": {\"orientation\": \"h\"}, \"title\": \"Number of People Killed/Injured\"}, {\"showLink\": true, \"linkText\": \"Export to plot.ly\"})});</script><script type=\"text/javascript\">window.addEventListener(\"resize\", function(){window._Plotly.Plots.resize(document.getElementById(\"de6b97d8-3746-4b41-9041-6c4adfa6e44a\"));});</script>"
      ]
     },
     "metadata": {},
     "output_type": "display_data"
    }
   ],
   "source": [
    "# No. of people killed, injured, both\n",
    "\n",
    "print(\"Total number of incidents = {}\".format(len(df['n_killed'])))\n",
    "\n",
    "def plot_pie_bucket(data,max_num,title):\n",
    "    df['temp'] = data.apply(lambda x : str(max_num)+'+' if x>=max_num else str(x))\n",
    "    tempdf = df['temp'].value_counts().reset_index()\n",
    "\n",
    "    labels = list(tempdf['index'])\n",
    "    values = list(tempdf['temp'])\n",
    "\n",
    "    trace1 = go.Pie(labels=labels, values=values)\n",
    "    layout = dict(height=600, title=title, legend=dict(orientation=\"h\"));\n",
    "    fig = go.Figure(data=[trace1], layout=layout)\n",
    "    iplot(fig)\n",
    "    \n",
    "plot_pie_bucket(df['n_killed'],4,'Number of People Killed')\n",
    "plot_pie_bucket(df['n_injured'],4,'Number of People Injured')\n",
    "\n",
    "plot_pie_bucket(df['loss'],4,'Number of People Killed/Injured')"
   ]
  },
  {
   "cell_type": "code",
   "execution_count": 40,
   "metadata": {},
   "outputs": [
    {
     "name": "stdout",
     "output_type": "stream",
     "text": [
      "\n",
      "\n",
      "THE FIVE MOST SERIOUS INCIDENTS (IN TERMS OF KILLED+INJURED)\n"
     ]
    },
    {
     "data": {
      "text/html": [
       "<div>\n",
       "<style scoped>\n",
       "    .dataframe tbody tr th:only-of-type {\n",
       "        vertical-align: middle;\n",
       "    }\n",
       "\n",
       "    .dataframe tbody tr th {\n",
       "        vertical-align: top;\n",
       "    }\n",
       "\n",
       "    .dataframe thead th {\n",
       "        text-align: right;\n",
       "    }\n",
       "</style>\n",
       "<table border=\"1\" class=\"dataframe\">\n",
       "  <thead>\n",
       "    <tr style=\"text-align: right;\">\n",
       "      <th></th>\n",
       "      <th>year</th>\n",
       "      <th>state</th>\n",
       "      <th>city_or_county</th>\n",
       "      <th>n_killed</th>\n",
       "      <th>n_injured</th>\n",
       "    </tr>\n",
       "  </thead>\n",
       "  <tbody>\n",
       "    <tr>\n",
       "      <th>130448</th>\n",
       "      <td>2016</td>\n",
       "      <td>Florida</td>\n",
       "      <td>Orlando</td>\n",
       "      <td>50</td>\n",
       "      <td>53</td>\n",
       "    </tr>\n",
       "    <tr>\n",
       "      <th>217151</th>\n",
       "      <td>2017</td>\n",
       "      <td>Texas</td>\n",
       "      <td>Sutherland Springs</td>\n",
       "      <td>27</td>\n",
       "      <td>20</td>\n",
       "    </tr>\n",
       "    <tr>\n",
       "      <th>101531</th>\n",
       "      <td>2015</td>\n",
       "      <td>California</td>\n",
       "      <td>San Bernardino</td>\n",
       "      <td>16</td>\n",
       "      <td>19</td>\n",
       "    </tr>\n",
       "    <tr>\n",
       "      <th>232745</th>\n",
       "      <td>2018</td>\n",
       "      <td>Florida</td>\n",
       "      <td>Pompano Beach (Parkland)</td>\n",
       "      <td>17</td>\n",
       "      <td>17</td>\n",
       "    </tr>\n",
       "    <tr>\n",
       "      <th>70511</th>\n",
       "      <td>2015</td>\n",
       "      <td>Texas</td>\n",
       "      <td>Waco</td>\n",
       "      <td>9</td>\n",
       "      <td>18</td>\n",
       "    </tr>\n",
       "  </tbody>\n",
       "</table>\n",
       "</div>"
      ],
      "text/plain": [
       "        year       state            city_or_county  n_killed  n_injured\n",
       "130448  2016     Florida                   Orlando        50         53\n",
       "217151  2017       Texas        Sutherland Springs        27         20\n",
       "101531  2015  California            San Bernardino        16         19\n",
       "232745  2018     Florida  Pompano Beach (Parkland)        17         17\n",
       "70511   2015       Texas                      Waco         9         18"
      ]
     },
     "execution_count": 40,
     "metadata": {},
     "output_type": "execute_result"
    }
   ],
   "source": [
    "# Most serious incidents\n",
    "\n",
    "print(\"\\n\\nThe five most serious incidents (in terms of killed+injured)\".upper())\n",
    "\n",
    "df1 = df.sort_values(['loss'], ascending=[False])\n",
    "df1[['year', 'state', 'city_or_county', 'n_killed', 'n_injured']].head(5)"
   ]
  },
  {
   "cell_type": "code",
   "execution_count": null,
   "metadata": {},
   "outputs": [],
   "source": []
  }
 ],
 "metadata": {
  "kernelspec": {
   "display_name": "Python 3",
   "language": "python",
   "name": "python3"
  },
  "language_info": {
   "codemirror_mode": {
    "name": "ipython",
    "version": 3
   },
   "file_extension": ".py",
   "mimetype": "text/x-python",
   "name": "python",
   "nbconvert_exporter": "python",
   "pygments_lexer": "ipython3",
   "version": "3.7.0"
  }
 },
 "nbformat": 4,
 "nbformat_minor": 2
}
