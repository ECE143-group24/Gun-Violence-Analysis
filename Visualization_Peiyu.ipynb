{
 "cells": [
  {
   "cell_type": "code",
   "execution_count": 83,
   "metadata": {},
   "outputs": [],
   "source": [
    "import pandas as pd\n",
    "from collections import defaultdict\n",
    "import matplotlib.pyplot as plt\n",
    "import plotly\n",
    "from plotly.offline import init_notebook_mode, iplot\n",
    "import plotly.graph_objs as go\n",
    "import calendar"
   ]
  },
  {
   "cell_type": "code",
   "execution_count": 2,
   "metadata": {},
   "outputs": [],
   "source": [
    "path = \"/Users/peiyu/Desktop/ECE 143/Group Project/gun-violence-data_01-2013_03-2018.csv\"\n",
    "df = pd.read_csv(path)"
   ]
  },
  {
   "cell_type": "code",
   "execution_count": 3,
   "metadata": {},
   "outputs": [
    {
     "data": {
      "text/plain": [
       "Index(['incident_id', 'date', 'state', 'city_or_county', 'address', 'n_killed',\n",
       "       'n_injured', 'incident_url', 'source_url',\n",
       "       'incident_url_fields_missing', 'congressional_district', 'gun_stolen',\n",
       "       'gun_type', 'incident_characteristics', 'latitude',\n",
       "       'location_description', 'longitude', 'n_guns_involved', 'notes',\n",
       "       'participant_age', 'participant_age_group', 'participant_gender',\n",
       "       'participant_name', 'participant_relationship', 'participant_status',\n",
       "       'participant_type', 'sources', 'state_house_district',\n",
       "       'state_senate_district'],\n",
       "      dtype='object')"
      ]
     },
     "execution_count": 3,
     "metadata": {},
     "output_type": "execute_result"
    }
   ],
   "source": [
    "df.keys()"
   ]
  },
  {
   "cell_type": "code",
   "execution_count": 4,
   "metadata": {},
   "outputs": [],
   "source": [
    "df['date'] = pd.to_datetime(df['date'])\n",
    "df['year'] = df['date'].dt.year\n",
    "df['month'] = df['date'].dt.month\n",
    "df['monthday'] = df['date'].dt.day\n",
    "df['weekday'] = df['date'].dt.weekday\n",
    "df['loss'] = df['n_killed'] + df['n_injured']"
   ]
  },
  {
   "cell_type": "markdown",
   "metadata": {},
   "source": [
    "## Time Related Trends of Gun Violence"
   ]
  },
  {
   "cell_type": "code",
   "execution_count": 32,
   "metadata": {},
   "outputs": [
    {
     "data": {
      "text/plain": [
       "2017    61401\n",
       "2016    58763\n",
       "2015    53579\n",
       "2014    51854\n",
       "2018    13802\n",
       "2013      278\n",
       "Name: year, dtype: int64"
      ]
     },
     "execution_count": 32,
     "metadata": {},
     "output_type": "execute_result"
    }
   ],
   "source": [
    "year_stat = df['year'].value_counts()\n",
    "year_stat"
   ]
  },
  {
   "cell_type": "code",
   "execution_count": 98,
   "metadata": {},
   "outputs": [
    {
     "data": {
      "application/vnd.plotly.v1+json": {
       "data": [
        {
         "marker": {
          "color": [
           "rgba(222,45,38,0.8)",
           "rgba(222,45,38,0.8)",
           "rgba(222,45,38,0.8)",
           "rgba(222,45,38,0.8)",
           "rgba(204,204,204,1)",
           "rgba(204,204,204,1)"
          ]
         },
         "name": "year count",
         "opacity": 0.7,
         "type": "bar",
         "uid": "df360e12-aa49-4d37-a967-c2b7ce242034",
         "x": [
          2017,
          2016,
          2015,
          2014,
          2018,
          2013
         ],
         "y": [
          61401,
          58763,
          53579,
          51854,
          13802,
          278
         ]
        }
       ],
       "layout": {
        "title": "Gun Violence Incidents by year"
       }
      },
      "text/html": [
       "<div id=\"ed88ade7-4ded-4d9e-bc0c-9aaea19b4885\" style=\"height: 525px; width: 100%;\" class=\"plotly-graph-div\"></div><script type=\"text/javascript\">require([\"plotly\"], function(Plotly) { window.PLOTLYENV=window.PLOTLYENV || {};window.PLOTLYENV.BASE_URL=\"https://plot.ly\";Plotly.newPlot(\"ed88ade7-4ded-4d9e-bc0c-9aaea19b4885\", [{\"marker\": {\"color\": [\"rgba(222,45,38,0.8)\", \"rgba(222,45,38,0.8)\", \"rgba(222,45,38,0.8)\", \"rgba(222,45,38,0.8)\", \"rgba(204,204,204,1)\", \"rgba(204,204,204,1)\"]}, \"name\": \"year count\", \"opacity\": 0.7, \"x\": [2017, 2016, 2015, 2014, 2018, 2013], \"y\": [61401, 58763, 53579, 51854, 13802, 278], \"type\": \"bar\", \"uid\": \"df360e12-aa49-4d37-a967-c2b7ce242034\"}], {\"title\": \"Gun Violence Incidents by year\"}, {\"showLink\": true, \"linkText\": \"Export to plot.ly\"})});</script><script type=\"text/javascript\">window.addEventListener(\"resize\", function(){Plotly.Plots.resize(document.getElementById(\"ed88ade7-4ded-4d9e-bc0c-9aaea19b4885\"));});</script>"
      ],
      "text/vnd.plotly.v1+html": [
       "<div id=\"ed88ade7-4ded-4d9e-bc0c-9aaea19b4885\" style=\"height: 525px; width: 100%;\" class=\"plotly-graph-div\"></div><script type=\"text/javascript\">require([\"plotly\"], function(Plotly) { window.PLOTLYENV=window.PLOTLYENV || {};window.PLOTLYENV.BASE_URL=\"https://plot.ly\";Plotly.newPlot(\"ed88ade7-4ded-4d9e-bc0c-9aaea19b4885\", [{\"marker\": {\"color\": [\"rgba(222,45,38,0.8)\", \"rgba(222,45,38,0.8)\", \"rgba(222,45,38,0.8)\", \"rgba(222,45,38,0.8)\", \"rgba(204,204,204,1)\", \"rgba(204,204,204,1)\"]}, \"name\": \"year count\", \"opacity\": 0.7, \"x\": [2017, 2016, 2015, 2014, 2018, 2013], \"y\": [61401, 58763, 53579, 51854, 13802, 278], \"type\": \"bar\", \"uid\": \"df360e12-aa49-4d37-a967-c2b7ce242034\"}], {\"title\": \"Gun Violence Incidents by year\"}, {\"showLink\": true, \"linkText\": \"Export to plot.ly\"})});</script><script type=\"text/javascript\">window.addEventListener(\"resize\", function(){Plotly.Plots.resize(document.getElementById(\"ed88ade7-4ded-4d9e-bc0c-9aaea19b4885\"));});</script>"
      ]
     },
     "metadata": {},
     "output_type": "display_data"
    }
   ],
   "source": [
    "x1 = year_stat.index.tolist()\n",
    "y1 = year_stat.values.tolist()\n",
    "trace1 = go.Bar(x = x1, y = y1, name = 'year count', opacity = 0.7,\n",
    "                marker = dict(\n",
    "                    color = ['rgba(222,45,38,0.8)', 'rgba(222,45,38,0.8)', 'rgba(222,45,38,0.8)',\n",
    "                             'rgba(222,45,38,0.8)', 'rgba(204,204,204,1)', 'rgba(204,204,204,1)']))\n",
    "layout = go.Layout(title = 'Gun Violence Incidents by year')\n",
    "fig = go.Figure(data = [trace1], layout = layout)\n",
    "iplot(fig)"
   ]
  },
  {
   "cell_type": "code",
   "execution_count": 73,
   "metadata": {},
   "outputs": [],
   "source": [
    "month_count = defaultdict(int)\n",
    "for i in range(len(df)):\n",
    "    if df['year'][i] in [2014, 2015, 2016, 2017]:\n",
    "        month_count[df['month'][i]] += 1\n",
    "month_mean = defaultdict(int)\n",
    "for i in month_count.keys():\n",
    "    month_mean[i] = month_count[i] / len([2014, 2015, 2016, 2017])"
   ]
  },
  {
   "cell_type": "code",
   "execution_count": 111,
   "metadata": {},
   "outputs": [
    {
     "data": {
      "application/vnd.plotly.v1+json": {
       "data": [
        {
         "marker": {
          "color": "rgba(200,200,3,0.5)"
         },
         "name": "month",
         "opacity": 0.7,
         "type": "bar",
         "uid": "67bc4f08-b9ea-4544-86a6-8f7f13ed776c",
         "x": [
          "Jan",
          "Feb",
          "Mar",
          "Apr",
          "May",
          "Jun",
          "Jul",
          "Aug",
          "Sep",
          "Oct",
          "Nov",
          "Dec"
         ],
         "y": [
          4537.5,
          3676.25,
          4467.25,
          4652.75,
          4975.75,
          4681,
          5273,
          5253,
          4907,
          4967,
          4487.75,
          4521
         ]
        }
       ],
       "layout": {
        "title": "Average number of Gun Violence Incidents by Months"
       }
      },
      "text/html": [
       "<div id=\"c3a5e128-1dac-4fec-a2b9-d0ad1022049b\" style=\"height: 525px; width: 100%;\" class=\"plotly-graph-div\"></div><script type=\"text/javascript\">require([\"plotly\"], function(Plotly) { window.PLOTLYENV=window.PLOTLYENV || {};window.PLOTLYENV.BASE_URL=\"https://plot.ly\";Plotly.newPlot(\"c3a5e128-1dac-4fec-a2b9-d0ad1022049b\", [{\"marker\": {\"color\": \"rgba(200,200,3,0.5)\"}, \"name\": \"month\", \"opacity\": 0.7, \"x\": [\"Jan\", \"Feb\", \"Mar\", \"Apr\", \"May\", \"Jun\", \"Jul\", \"Aug\", \"Sep\", \"Oct\", \"Nov\", \"Dec\"], \"y\": [4537.5, 3676.25, 4467.25, 4652.75, 4975.75, 4681.0, 5273.0, 5253.0, 4907.0, 4967.0, 4487.75, 4521.0], \"type\": \"bar\", \"uid\": \"67bc4f08-b9ea-4544-86a6-8f7f13ed776c\"}], {\"title\": \"Average number of Gun Violence Incidents by Months\"}, {\"showLink\": true, \"linkText\": \"Export to plot.ly\"})});</script><script type=\"text/javascript\">window.addEventListener(\"resize\", function(){Plotly.Plots.resize(document.getElementById(\"c3a5e128-1dac-4fec-a2b9-d0ad1022049b\"));});</script>"
      ],
      "text/vnd.plotly.v1+html": [
       "<div id=\"c3a5e128-1dac-4fec-a2b9-d0ad1022049b\" style=\"height: 525px; width: 100%;\" class=\"plotly-graph-div\"></div><script type=\"text/javascript\">require([\"plotly\"], function(Plotly) { window.PLOTLYENV=window.PLOTLYENV || {};window.PLOTLYENV.BASE_URL=\"https://plot.ly\";Plotly.newPlot(\"c3a5e128-1dac-4fec-a2b9-d0ad1022049b\", [{\"marker\": {\"color\": \"rgba(200,200,3,0.5)\"}, \"name\": \"month\", \"opacity\": 0.7, \"x\": [\"Jan\", \"Feb\", \"Mar\", \"Apr\", \"May\", \"Jun\", \"Jul\", \"Aug\", \"Sep\", \"Oct\", \"Nov\", \"Dec\"], \"y\": [4537.5, 3676.25, 4467.25, 4652.75, 4975.75, 4681.0, 5273.0, 5253.0, 4907.0, 4967.0, 4487.75, 4521.0], \"type\": \"bar\", \"uid\": \"67bc4f08-b9ea-4544-86a6-8f7f13ed776c\"}], {\"title\": \"Average number of Gun Violence Incidents by Months\"}, {\"showLink\": true, \"linkText\": \"Export to plot.ly\"})});</script><script type=\"text/javascript\">window.addEventListener(\"resize\", function(){Plotly.Plots.resize(document.getElementById(\"c3a5e128-1dac-4fec-a2b9-d0ad1022049b\"));});</script>"
      ]
     },
     "metadata": {},
     "output_type": "display_data"
    }
   ],
   "source": [
    "x2 = list(month_mean.keys())\n",
    "y2 = list(month_mean.values())\n",
    "trace2 = go.Bar(x = [calendar.month_abbr[int(x)] for x in x2], y = y2, name = 'month', opacity = 0.7, marker = dict(color = 'rgba(200,200,3,0.5)'))\n",
    "layout = go.Layout(title = 'Average number of Gun Violence Incidents by Months')\n",
    "fig = go.Figure(data = [trace2], layout = layout)\n",
    "iplot(fig)"
   ]
  },
  {
   "cell_type": "code",
   "execution_count": null,
   "metadata": {},
   "outputs": [],
   "source": []
  },
  {
   "cell_type": "code",
   "execution_count": null,
   "metadata": {},
   "outputs": [],
   "source": []
  }
 ],
 "metadata": {
  "kernelspec": {
   "display_name": "Python 3",
   "language": "python",
   "name": "python3"
  },
  "language_info": {
   "codemirror_mode": {
    "name": "ipython",
    "version": 3
   },
   "file_extension": ".py",
   "mimetype": "text/x-python",
   "name": "python",
   "nbconvert_exporter": "python",
   "pygments_lexer": "ipython3",
   "version": "3.6.3"
  }
 },
 "nbformat": 4,
 "nbformat_minor": 2
}
